{
  "nbformat": 4,
  "nbformat_minor": 0,
  "metadata": {
    "colab": {
      "provenance": [],
      "authorship_tag": "ABX9TyNDa0ApEs3NHbKEl0mtb5Sy",
      "include_colab_link": true
    },
    "kernelspec": {
      "name": "python3",
      "display_name": "Python 3"
    },
    "language_info": {
      "name": "python"
    },
    "gpuClass": "standard"
  },
  "cells": [
    {
      "cell_type": "markdown",
      "metadata": {
        "id": "view-in-github",
        "colab_type": "text"
      },
      "source": [
        "<a href=\"https://colab.research.google.com/github/GiX7000/deep-learning-with-python/blob/main/DeepLearning_with_Python_Part3.ipynb\" target=\"_parent\"><img src=\"https://colab.research.google.com/assets/colab-badge.svg\" alt=\"Open In Colab\"/></a>"
      ]
    },
    {
      "cell_type": "markdown",
      "source": [
        "# Deep Learning for text and sequences from the book 'Deep Learning with Python', Part 3, Francois Chollet"
      ],
      "metadata": {
        "id": "yTS6Aya_I7C1"
      }
    },
    {
      "cell_type": "markdown",
      "source": [
        "## Example 1. Working with text data: IMDB movie-review sentiment classification"
      ],
      "metadata": {
        "id": "2Dl5TrsYI_N5"
      }
    },
    {
      "cell_type": "markdown",
      "source": [
        "Like all other NNs, dl models don't take as input raw text, but numeric tensors. Vectorizing is the process of transforming text into numeric tensors and can be done with: 1) segment text into words, and transform each word into a vector, 2) segment text into characters, and transform each character into a vector and 3) extract n-grams of words or characters, and transform each n-gram into a vector. Each different unit into which we break down text after segmentation is called token and the process is also called tokenization. So, to vectorize now these tokens, we have 2 ways: 1) one-hot encoding and 2) token/word embedding"
      ],
      "metadata": {
        "id": "De5yVD12NgGT"
      }
    },
    {
      "cell_type": "markdown",
      "source": [
        "1. One-hot encoding of words consists of associating a unique integer index with every word and then turning this integer index i into a binary vector of size N with all zeros except for the i-th entry, which is 1"
      ],
      "metadata": {
        "id": "dlNG_UI4TNYA"
      }
    },
    {
      "cell_type": "code",
      "execution_count": 1,
      "metadata": {
        "id": "bxFWylOICQK8",
        "colab": {
          "base_uri": "https://localhost:8080/"
        },
        "outputId": "1a29fac9-659b-46b7-a71b-0d956c70febb"
      },
      "outputs": [
        {
          "output_type": "stream",
          "name": "stdout",
          "text": [
            "Found 9 unique tokens.\n"
          ]
        }
      ],
      "source": [
        "# example of using keras to vectorize tokens: transform each word of a sentence into a vector, which will be input to NN\n",
        "from keras.preprocessing.text import Tokenizer\n",
        "\n",
        "samples = ['The cat sat on the mat.', 'The dog ate my homework.']\n",
        "\n",
        "tokenizer = Tokenizer(num_words=1000)   # creates tokenizer taking into account the 1000 most common words=> each word in a sentence is a 1000D vector!\n",
        "tokenizer.fit_on_texts(samples)   \n",
        "\n",
        "sequences = tokenizer.texts_to_sequences(samples)   # turns the strings into lists of integers\n",
        "one_hot_results = tokenizer.texts_to_matrix(samples, mode='binary') # returns an array of (2, 1000). there is 1 if the word is on 1000 most common words of tokenizer\n",
        "\n",
        "word_index = tokenizer.word_index   # recover the word index that was computed\n",
        "print('Found %s unique tokens.' %len(word_index))"
      ]
    },
    {
      "cell_type": "markdown",
      "source": [
        "2. Word embeddings is also a powerful way to associate a vector with a token/word. Word embeddings are dense, lower-dimensional and learned from data, whereas one-hot word vectors are sparse, high-dimensional and hardcoded"
      ],
      "metadata": {
        "id": "mKdwdxwXUB2l"
      }
    },
    {
      "cell_type": "markdown",
      "source": [
        "There are 2 ways to obtain word embeddings: "
      ],
      "metadata": {
        "id": "YVsD3cDEU0LN"
      }
    },
    {
      "cell_type": "markdown",
      "source": [
        "2.1. Learn word embeddings with embedding layer, jointly with the main task we care about. Here, we start with random word vectors and then learn word vectors in the same way we learn the weights of a NN\n"
      ],
      "metadata": {
        "id": "HHduKPh2Vrec"
      }
    },
    {
      "cell_type": "code",
      "source": [
        "# load the IMDB data. remember that the loaded data are already tokenized, so we only need to vectorize these tokens(words)\n",
        "from keras.datasets import imdb\n",
        "\n",
        "max_features = 10000    # restrict movie reviews to the top 10000 most common words\n",
        "maxlen = 20   # limit text length to 20 words max\n",
        "\n",
        "(x_train, y_train), (x_test, y_test) = imdb.load_data(num_words=max_features)   # loads data as lists of integers"
      ],
      "metadata": {
        "colab": {
          "base_uri": "https://localhost:8080/"
        },
        "id": "dD9y0b_2V7YO",
        "outputId": "8713412d-02b7-4481-f3c8-3d360a1d254f"
      },
      "execution_count": 2,
      "outputs": [
        {
          "output_type": "stream",
          "name": "stdout",
          "text": [
            "Downloading data from https://storage.googleapis.com/tensorflow/tf-keras-datasets/imdb.npz\n",
            "17464789/17464789 [==============================] - 0s 0us/step\n"
          ]
        }
      ]
    },
    {
      "cell_type": "code",
      "source": [
        "# now, we want these lists of integers to have maximum 20 integers=> 20 words max at each review!\n",
        "# so, the new shape of x_train and x_test would be (25000, 20)\n",
        "from keras.utils import pad_sequences\n",
        "\n",
        "x_train = pad_sequences(x_train, maxlen=maxlen)\n",
        "x_test = pad_sequences(x_test, maxlen=maxlen)"
      ],
      "metadata": {
        "id": "cbV7xh1yYtII"
      },
      "execution_count": 3,
      "outputs": []
    },
    {
      "cell_type": "markdown",
      "source": [
        "So now, our datasets x_train and y_train, are comprised of 25000 samples(reviews) with 20 words(tokens) each. Each word is actually represented by an integer which declares the index of the word in a 10000 vocabulary with the most 10000 common words. All we want is the best vector representations(embeddings) of all of those words and that is why we train the embedding layer"
      ],
      "metadata": {
        "id": "aG1qKlcxfiyQ"
      }
    },
    {
      "cell_type": "code",
      "source": [
        "# define model's architecture including an Embedding layer\n",
        "from keras.models import Sequential\n",
        "from keras.layers import Flatten, Dense, Embedding\n",
        "\n",
        "model = Sequential()\n",
        "# embedding layer takes as input 2D integer tensors(25000 samples with 20 words/features each)    \n",
        "# output of embedding layer is a 3D floating-point tensor od shape (samples, sequence_length, embedding_dimensionality) -> here we have 8-dimensional embeddings for each of the 10000 words\n",
        "model.add(Embedding(10000, 8, input_length=maxlen))\n",
        "\n",
        "model.add(Flatten())\n",
        "model.add(Dense(1, activation='sigmoid'))\n",
        "\n",
        "model.compile(optimizer='rmsprop', loss='binary_crossentropy', metrics=['acc'])\n",
        "\n",
        "model.summary()"
      ],
      "metadata": {
        "colab": {
          "base_uri": "https://localhost:8080/"
        },
        "id": "4W1wwCwWbQtQ",
        "outputId": "629840da-4eeb-4b68-ac76-fc9e46cc7689"
      },
      "execution_count": 4,
      "outputs": [
        {
          "output_type": "stream",
          "name": "stdout",
          "text": [
            "Model: \"sequential\"\n",
            "_________________________________________________________________\n",
            " Layer (type)                Output Shape              Param #   \n",
            "=================================================================\n",
            " embedding (Embedding)       (None, 20, 8)             80000     \n",
            "                                                                 \n",
            " flatten (Flatten)           (None, 160)               0         \n",
            "                                                                 \n",
            " dense (Dense)               (None, 1)                 161       \n",
            "                                                                 \n",
            "=================================================================\n",
            "Total params: 80,161\n",
            "Trainable params: 80,161\n",
            "Non-trainable params: 0\n",
            "_________________________________________________________________\n"
          ]
        }
      ]
    },
    {
      "cell_type": "code",
      "source": [
        "# train the model\n",
        "history = model.fit(x_train, y_train, epochs=10, batch_size=32, validation_split=0.2)"
      ],
      "metadata": {
        "colab": {
          "base_uri": "https://localhost:8080/"
        },
        "id": "Gc2bjbWGYtAE",
        "outputId": "111a0464-41bd-4d58-f247-822fbd75c4d4"
      },
      "execution_count": 5,
      "outputs": [
        {
          "output_type": "stream",
          "name": "stdout",
          "text": [
            "Epoch 1/10\n",
            "625/625 [==============================] - 7s 7ms/step - loss: 0.6736 - acc: 0.6126 - val_loss: 0.6266 - val_acc: 0.6996\n",
            "Epoch 2/10\n",
            "625/625 [==============================] - 3s 4ms/step - loss: 0.5462 - acc: 0.7499 - val_loss: 0.5263 - val_acc: 0.7330\n",
            "Epoch 3/10\n",
            "625/625 [==============================] - 4s 6ms/step - loss: 0.4613 - acc: 0.7882 - val_loss: 0.4993 - val_acc: 0.7488\n",
            "Epoch 4/10\n",
            "625/625 [==============================] - 5s 7ms/step - loss: 0.4199 - acc: 0.8095 - val_loss: 0.4921 - val_acc: 0.7566\n",
            "Epoch 5/10\n",
            "625/625 [==============================] - 3s 5ms/step - loss: 0.3929 - acc: 0.8245 - val_loss: 0.4923 - val_acc: 0.7558\n",
            "Epoch 6/10\n",
            "625/625 [==============================] - 3s 5ms/step - loss: 0.3719 - acc: 0.8352 - val_loss: 0.4969 - val_acc: 0.7572\n",
            "Epoch 7/10\n",
            "625/625 [==============================] - 4s 6ms/step - loss: 0.3540 - acc: 0.8450 - val_loss: 0.5022 - val_acc: 0.7554\n",
            "Epoch 8/10\n",
            "625/625 [==============================] - 3s 5ms/step - loss: 0.3370 - acc: 0.8551 - val_loss: 0.5088 - val_acc: 0.7538\n",
            "Epoch 9/10\n",
            "625/625 [==============================] - 3s 5ms/step - loss: 0.3217 - acc: 0.8630 - val_loss: 0.5159 - val_acc: 0.7520\n",
            "Epoch 10/10\n",
            "625/625 [==============================] - 3s 5ms/step - loss: 0.3061 - acc: 0.8712 - val_loss: 0.5233 - val_acc: 0.7514\n"
          ]
        }
      ]
    },
    {
      "cell_type": "markdown",
      "source": [
        "An almost 76% validation accuracy and by only taking into account 20 words at each review. This approach is also without considering inter-word relationships and sentence structure, like recurrent networks do"
      ],
      "metadata": {
        "id": "C87HQkuUhPs9"
      }
    },
    {
      "cell_type": "code",
      "source": [
        "# if you don't have to compare this model to other models, evaluate on your test set\n",
        "model.evaluate(x_test, y_test)"
      ],
      "metadata": {
        "id": "Pl4X0f31sDIz",
        "colab": {
          "base_uri": "https://localhost:8080/"
        },
        "outputId": "a9d3d0e1-5ec3-421a-dae6-64fc9e689a51"
      },
      "execution_count": 6,
      "outputs": [
        {
          "output_type": "stream",
          "name": "stdout",
          "text": [
            "782/782 [==============================] - 4s 5ms/step - loss: 0.5141 - acc: 0.7606\n"
          ]
        },
        {
          "output_type": "execute_result",
          "data": {
            "text/plain": [
              "[0.5140745043754578, 0.760640025138855]"
            ]
          },
          "metadata": {},
          "execution_count": 6
        }
      ]
    },
    {
      "cell_type": "markdown",
      "source": [
        "2.2. Learn word embedding by using pretrained word embeddings"
      ],
      "metadata": {
        "id": "TBhDj_daV62w"
      }
    },
    {
      "cell_type": "markdown",
      "source": [
        "When we have so little data available, instead of learning word embeddings jointly with the problem we want to solve, we load embedding vectors from a precomputed embedding space that we know is highly structured and exhibits useful properties"
      ],
      "metadata": {
        "id": "Mu6_tzsOjRKi"
      }
    },
    {
      "cell_type": "markdown",
      "source": [
        "Instead of using pretokenized data from imdb, we download here the original text data, which is comprised of 2 folders pos and neg with reviews in txt files"
      ],
      "metadata": {
        "id": "_rAVjv2Mj3aq"
      }
    },
    {
      "cell_type": "code",
      "source": [
        "# get and unzip raw text data\n",
        "!curl -O https://ai.stanford.edu/~amaas/data/sentiment/aclImdb_v1.tar.gz\n",
        "!tar -xf aclImdb_v1.tar.gz"
      ],
      "metadata": {
        "colab": {
          "base_uri": "https://localhost:8080/"
        },
        "id": "edI7i8ZeOjez",
        "outputId": "5ce477ad-1ac5-478e-bfc7-1164b2552718"
      },
      "execution_count": 7,
      "outputs": [
        {
          "output_type": "stream",
          "name": "stdout",
          "text": [
            "  % Total    % Received % Xferd  Average Speed   Time    Time     Time  Current\n",
            "                                 Dload  Upload   Total   Spent    Left  Speed\n",
            "100 80.2M  100 80.2M    0     0  25.0M      0  0:00:03  0:00:03 --:--:-- 25.0M\n"
          ]
        }
      ]
    },
    {
      "cell_type": "code",
      "source": [
        "# collect review labels(pos/neg) into a label list(1/0) as well as reviews in a text list\n",
        "import os\n",
        "\n",
        "imdb_dir = '/content/aclImdb'\n",
        "train_dir = os.path.join(imdb_dir, 'train')\n",
        "\n",
        "labels = []   # list of labels of reviews\n",
        "texts = []    # list of texts/reviews\n",
        "\n",
        "for label_type in ['neg', 'pos']:\n",
        "  dir_name = os.path.join(train_dir, label_type)\n",
        "  for fname in os.listdir(dir_name):\n",
        "    if fname[-4:] == '.txt':\n",
        "      f = open(os.path.join(dir_name, fname))\n",
        "      texts.append(f.read())\n",
        "      f.close()\n",
        "      if label_type == 'neg':\n",
        "        labels.append(0)\n",
        "      else:\n",
        "        labels.append(1)"
      ],
      "metadata": {
        "id": "aOVhG2l6i1ZO"
      },
      "execution_count": 8,
      "outputs": []
    },
    {
      "cell_type": "markdown",
      "source": [
        "We said we use this approach when we have little data, so we restrict the training data to the first 200 samples"
      ],
      "metadata": {
        "id": "NeyLZxYkmbnB"
      }
    },
    {
      "cell_type": "code",
      "source": [
        "# tokenizing the data\n",
        "from keras.preprocessing.text import Tokenizer\n",
        "from keras.utils import pad_sequences\n",
        "import numpy as np\n",
        "\n",
        "maxlen = 100    # we cut reviews with more than 100 words\n",
        "training_samples = 200\n",
        "validation_samples = 10000\n",
        "max_words = 10000   # considers only the top 10000 words in the dataset\n",
        "\n",
        "tokenizer = Tokenizer(num_words=max_words)\n",
        "tokenizer.fit_on_texts(texts)\n",
        "sequences = tokenizer.texts_to_sequences(texts)   # every word is a token(an integer-index in a 10000 most common words space) now in a sentence\n",
        "word_index = tokenizer.word_index\n",
        "print('Found %s unique tokens.' %len(word_index))"
      ],
      "metadata": {
        "id": "y9gHiKDbi1TF",
        "colab": {
          "base_uri": "https://localhost:8080/"
        },
        "outputId": "5781c0f7-73b5-4c4c-e97b-cf720d9190bf"
      },
      "execution_count": 9,
      "outputs": [
        {
          "output_type": "stream",
          "name": "stdout",
          "text": [
            "Found 88582 unique tokens.\n"
          ]
        }
      ]
    },
    {
      "cell_type": "code",
      "source": [
        "# prepare the data\n",
        "data = pad_sequences(sequences, maxlen=maxlen)    # all reviews at 100 words\n",
        "\n",
        "labels = np.asarray(labels)\n",
        "print('Shape of data tensor:', data.shape)\n",
        "print('Shape of label tensor:', labels.shape)\n",
        "\n",
        "indices = np.arange(data.shape[0])\n",
        "np.random.shuffle(indices)    # data are ordered to all negatives first and then all positives, as we did it inthe fro loop above. so we need to shuffle \n",
        "data = data[indices]\n",
        "labels = labels[indices]\n",
        "\n",
        "x_train = data[:training_samples]\n",
        "y_train = labels[:training_samples]\n",
        "x_val = data[training_samples : training_samples + validation_samples]\n",
        "y_val = labels[training_samples : training_samples + validation_samples]"
      ],
      "metadata": {
        "id": "G1OZwgJuoSDm",
        "colab": {
          "base_uri": "https://localhost:8080/"
        },
        "outputId": "82af8f95-6926-4310-d75d-6c73b2b60959"
      },
      "execution_count": 10,
      "outputs": [
        {
          "output_type": "stream",
          "name": "stdout",
          "text": [
            "Shape of data tensor: (25000, 100)\n",
            "Shape of label tensor: (25000,)\n"
          ]
        }
      ]
    },
    {
      "cell_type": "markdown",
      "source": [
        "We will use the precomputed GloVe word embeddings"
      ],
      "metadata": {
        "id": "CRIoXoc2pq0p"
      }
    },
    {
      "cell_type": "code",
      "source": [
        "# get and unzip pretrained word embeddings\n",
        "!wget http://nlp.stanford.edu/data/glove.6B.zip\n",
        "!unzip -q glove.6B.zip"
      ],
      "metadata": {
        "colab": {
          "base_uri": "https://localhost:8080/"
        },
        "id": "XJstxSJtW8O-",
        "outputId": "d5b9cc7f-6acd-4c93-9c51-a9ae622ebb0a"
      },
      "execution_count": 11,
      "outputs": [
        {
          "output_type": "stream",
          "name": "stdout",
          "text": [
            "--2022-11-30 10:21:12--  http://nlp.stanford.edu/data/glove.6B.zip\n",
            "Resolving nlp.stanford.edu (nlp.stanford.edu)... 171.64.67.140\n",
            "Connecting to nlp.stanford.edu (nlp.stanford.edu)|171.64.67.140|:80... connected.\n",
            "HTTP request sent, awaiting response... 302 Found\n",
            "Location: https://nlp.stanford.edu/data/glove.6B.zip [following]\n",
            "--2022-11-30 10:21:12--  https://nlp.stanford.edu/data/glove.6B.zip\n",
            "Connecting to nlp.stanford.edu (nlp.stanford.edu)|171.64.67.140|:443... connected.\n",
            "HTTP request sent, awaiting response... 301 Moved Permanently\n",
            "Location: https://downloads.cs.stanford.edu/nlp/data/glove.6B.zip [following]\n",
            "--2022-11-30 10:21:12--  https://downloads.cs.stanford.edu/nlp/data/glove.6B.zip\n",
            "Resolving downloads.cs.stanford.edu (downloads.cs.stanford.edu)... 171.64.64.22\n",
            "Connecting to downloads.cs.stanford.edu (downloads.cs.stanford.edu)|171.64.64.22|:443... connected.\n",
            "HTTP request sent, awaiting response... 200 OK\n",
            "Length: 862182613 (822M) [application/zip]\n",
            "Saving to: ‘glove.6B.zip’\n",
            "\n",
            "glove.6B.zip        100%[===================>] 822.24M  5.01MB/s    in 2m 39s  \n",
            "\n",
            "2022-11-30 10:23:52 (5.16 MB/s) - ‘glove.6B.zip’ saved [862182613/862182613]\n",
            "\n"
          ]
        }
      ]
    },
    {
      "cell_type": "code",
      "source": [
        "# parsing the GloVe embeddings file\n",
        "glove_dir = '/content'\n",
        "\n",
        "embeddings_index = {}\n",
        "f = open(os.path.join(glove_dir, 'glove.6B.100d.txt'))\n",
        "for line in f:\n",
        "  values = line.split()\n",
        "  word = values[0]\n",
        "  coefs = np.asarray(values[1:], dtype='float32')\n",
        "  embeddings_index[word] = coefs\n",
        "f.close()\n",
        "\n",
        "print('Found %s word vectors.' % len(embeddings_index))"
      ],
      "metadata": {
        "id": "M1NegUbLpjoA",
        "colab": {
          "base_uri": "https://localhost:8080/"
        },
        "outputId": "8c546de5-bcce-4112-fc77-8a4e2c27623b"
      },
      "execution_count": 12,
      "outputs": [
        {
          "output_type": "stream",
          "name": "stdout",
          "text": [
            "Found 400000 word vectors.\n"
          ]
        }
      ]
    },
    {
      "cell_type": "code",
      "source": [
        "# word embeddings matrix. is matrix of shape(max_words, embedding_dim)\n",
        "# each entry-token i contains a embedding_dim-dimensional vector for the word of index i \n",
        "embedding_dim = 100\n",
        "\n",
        "embedding_matrix = np.zeros((max_words, embedding_dim))\n",
        "for word, i in word_index.items():\n",
        "  if i<max_words:\n",
        "    embedding_vector = embeddings_index.get(word)\n",
        "    if embedding_vector is not None:\n",
        "      embedding_matrix[i] = embedding_vector    # words not found in the embeddings_index will be all 0"
      ],
      "metadata": {
        "id": "86-HBa7Iq_6M"
      },
      "execution_count": 13,
      "outputs": []
    },
    {
      "cell_type": "code",
      "source": [
        "# define the model\n",
        "from keras.models import Sequential\n",
        "from keras.layers import Embedding, Flatten, Dense\n",
        "\n",
        "model = Sequential()\n",
        "model.add(Embedding(max_words, embedding_dim, input_length=maxlen))\n",
        "model.add(Flatten())\n",
        "model.add(Dense(32, activation='relu'))\n",
        "model.add(Dense(1, activation='sigmoid'))\n",
        "\n",
        "model.summary()"
      ],
      "metadata": {
        "id": "_RQC3EI8rxvE",
        "colab": {
          "base_uri": "https://localhost:8080/"
        },
        "outputId": "d3f85cd1-d520-46e8-a3f7-25c66a0c0de9"
      },
      "execution_count": 14,
      "outputs": [
        {
          "output_type": "stream",
          "name": "stdout",
          "text": [
            "Model: \"sequential_1\"\n",
            "_________________________________________________________________\n",
            " Layer (type)                Output Shape              Param #   \n",
            "=================================================================\n",
            " embedding_1 (Embedding)     (None, 100, 100)          1000000   \n",
            "                                                                 \n",
            " flatten_1 (Flatten)         (None, 10000)             0         \n",
            "                                                                 \n",
            " dense_1 (Dense)             (None, 32)                320032    \n",
            "                                                                 \n",
            " dense_2 (Dense)             (None, 1)                 33        \n",
            "                                                                 \n",
            "=================================================================\n",
            "Total params: 1,320,065\n",
            "Trainable params: 1,320,065\n",
            "Non-trainable params: 0\n",
            "_________________________________________________________________\n"
          ]
        }
      ]
    },
    {
      "cell_type": "markdown",
      "source": [
        "Weights of the embedding layer would be the weights from embedding matrix, which contains the pretrained word embeddings from glove.6B.100d"
      ],
      "metadata": {
        "id": "MbHfTzTaaaSa"
      }
    },
    {
      "cell_type": "code",
      "source": [
        "# set pretrained word embeddings weights as the weights of our Embedding layer\n",
        "model.layers[0].set_weights([embedding_matrix])\n",
        "model.layers[0].trainable = False   # here, we have fed the embedding layer with pretrained weights and we feeze it in order not to change these weights. This was, actually, our initial purpose: to use that pretrained weights!"
      ],
      "metadata": {
        "id": "quznP8OcsXN-"
      },
      "execution_count": 15,
      "outputs": []
    },
    {
      "cell_type": "code",
      "source": [
        "# compile, train and save the model\n",
        "model.compile(optimizer='rmsprop', loss='binary_crossentropy', metrics=['acc'])\n",
        "\n",
        "history = model.fit(x_train, y_train, epochs=10, batch_size=32, validation_data=(x_val, y_val))\n",
        "\n",
        "model.save_weights('pre_trained_glove_model.h5')"
      ],
      "metadata": {
        "id": "Wp-Q4abItE8P",
        "colab": {
          "base_uri": "https://localhost:8080/"
        },
        "outputId": "bb8552c7-3e8d-4fff-d18f-384bf72f856a"
      },
      "execution_count": 16,
      "outputs": [
        {
          "output_type": "stream",
          "name": "stdout",
          "text": [
            "Epoch 1/10\n",
            "7/7 [==============================] - 2s 288ms/step - loss: 2.6130 - acc: 0.4400 - val_loss: 0.8578 - val_acc: 0.5020\n",
            "Epoch 2/10\n",
            "7/7 [==============================] - 1s 110ms/step - loss: 0.4928 - acc: 0.7550 - val_loss: 1.3306 - val_acc: 0.4998\n",
            "Epoch 3/10\n",
            "7/7 [==============================] - 1s 100ms/step - loss: 0.4473 - acc: 0.7650 - val_loss: 1.1298 - val_acc: 0.5014\n",
            "Epoch 4/10\n",
            "7/7 [==============================] - 1s 109ms/step - loss: 0.3665 - acc: 0.8300 - val_loss: 0.7074 - val_acc: 0.5628\n",
            "Epoch 5/10\n",
            "7/7 [==============================] - 1s 99ms/step - loss: 0.1730 - acc: 0.9700 - val_loss: 1.3865 - val_acc: 0.5001\n",
            "Epoch 6/10\n",
            "7/7 [==============================] - 1s 100ms/step - loss: 0.2010 - acc: 0.9200 - val_loss: 0.8002 - val_acc: 0.5406\n",
            "Epoch 7/10\n",
            "7/7 [==============================] - 1s 151ms/step - loss: 0.0876 - acc: 0.9950 - val_loss: 0.7932 - val_acc: 0.5503\n",
            "Epoch 8/10\n",
            "7/7 [==============================] - 1s 101ms/step - loss: 0.2978 - acc: 0.8700 - val_loss: 1.2584 - val_acc: 0.5103\n",
            "Epoch 9/10\n",
            "7/7 [==============================] - 1s 100ms/step - loss: 0.0598 - acc: 0.9950 - val_loss: 0.7366 - val_acc: 0.5791\n",
            "Epoch 10/10\n",
            "7/7 [==============================] - 1s 156ms/step - loss: 0.0309 - acc: 1.0000 - val_loss: 0.7491 - val_acc: 0.5739\n"
          ]
        }
      ]
    },
    {
      "cell_type": "markdown",
      "source": [
        "An almost 58% validation accuracy here, and we keep it to compare with validation's accuracy of the next model"
      ],
      "metadata": {
        "id": "NcvD_DN-sUuw"
      }
    },
    {
      "cell_type": "code",
      "source": [
        "# plot the results\n",
        "import matplotlib.pyplot as plt\n",
        "\n",
        "acc = history.history['acc']\n",
        "val_acc = history.history['val_acc']\n",
        "loss = history.history['loss']\n",
        "val_loss = history.history['val_loss']\n",
        "\n",
        "epochs = range(1, len(acc)+1)\n",
        "\n",
        "plt.plot(epochs, acc, 'bo', label='Training acc')\n",
        "plt.plot(epochs, val_acc, 'b', label='Validation acc')\n",
        "plt.title('Training and validation accuracy')\n",
        "plt.legend()\n",
        "\n",
        "plt.figure()\n",
        "\n",
        "plt.plot(epochs, loss, 'bo', label='Training loss')\n",
        "plt.plot(epochs, val_loss, 'b', label='Validation loss')\n",
        "plt.title('Training and validation loss')\n",
        "plt.legend()\n",
        "\n",
        "plt.show()"
      ],
      "metadata": {
        "id": "5mhhRJmBtoRG",
        "colab": {
          "base_uri": "https://localhost:8080/",
          "height": 545
        },
        "outputId": "29ad94b8-50b1-4039-8d5f-2b66d9730b3b"
      },
      "execution_count": 17,
      "outputs": [
        {
          "output_type": "display_data",
          "data": {
            "text/plain": [
              "<Figure size 432x288 with 1 Axes>"
            ],
            "image/png": "[encoded data removed]"
          },
          "metadata": {
            "needs_background": "light"
          }
        },
        {
          "output_type": "display_data",
          "data": {
            "text/plain": [
              "<Figure size 432x288 with 1 Axes>"
            ],
            "image/png": "[encoded data removed]"
          },
          "metadata": {
            "needs_background": "light"
          }
        }
      ]
    },
    {
      "cell_type": "markdown",
      "source": [
        "The model overfits, which is unsurprising given the small number of training set with just 200 samples"
      ],
      "metadata": {
        "id": "3KMhbuhUvHxD"
      }
    },
    {
      "cell_type": "markdown",
      "source": [
        "Now, let's see the performance of a model that is trained without pretrained word embeddings"
      ],
      "metadata": {
        "id": "FuBL4rsRwq7e"
      }
    },
    {
      "cell_type": "code",
      "source": [
        "# define a model\n",
        "from keras.models import Sequential\n",
        "from keras.layers import Embedding, Flatten, Dense\n",
        "\n",
        "model = Sequential()\n",
        "model.add(Embedding(max_words, embedding_dim, input_length=maxlen))\n",
        "model.add(Flatten())\n",
        "model.add(Dense(32, activation='relu'))\n",
        "model.add(Dense(1, activation='sigmoid'))\n",
        "\n",
        "model.summary()\n",
        "\n",
        "model.compile(optimizer='rmsprop', loss='binary_crossentropy', metrics=['acc'])\n",
        "\n",
        "history = model.fit(x_train, y_train, epochs=10, batch_size=32, validation_data=(x_val, y_val))"
      ],
      "metadata": {
        "id": "8gYsiSyqJB_i",
        "colab": {
          "base_uri": "https://localhost:8080/"
        },
        "outputId": "499c62ff-531d-4cf2-af8d-6933bfe6aa2a"
      },
      "execution_count": 18,
      "outputs": [
        {
          "output_type": "stream",
          "name": "stdout",
          "text": [
            "Model: \"sequential_2\"\n",
            "_________________________________________________________________\n",
            " Layer (type)                Output Shape              Param #   \n",
            "=================================================================\n",
            " embedding_2 (Embedding)     (None, 100, 100)          1000000   \n",
            "                                                                 \n",
            " flatten_2 (Flatten)         (None, 10000)             0         \n",
            "                                                                 \n",
            " dense_3 (Dense)             (None, 32)                320032    \n",
            "                                                                 \n",
            " dense_4 (Dense)             (None, 1)                 33        \n",
            "                                                                 \n",
            "=================================================================\n",
            "Total params: 1,320,065\n",
            "Trainable params: 1,320,065\n",
            "Non-trainable params: 0\n",
            "_________________________________________________________________\n",
            "Epoch 1/10\n",
            "7/7 [==============================] - 1s 130ms/step - loss: 0.6977 - acc: 0.4600 - val_loss: 0.6937 - val_acc: 0.5093\n",
            "Epoch 2/10\n",
            "7/7 [==============================] - 1s 100ms/step - loss: 0.4693 - acc: 1.0000 - val_loss: 0.7000 - val_acc: 0.5041\n",
            "Epoch 3/10\n",
            "7/7 [==============================] - 1s 99ms/step - loss: 0.2305 - acc: 1.0000 - val_loss: 0.7012 - val_acc: 0.5192\n",
            "Epoch 4/10\n",
            "7/7 [==============================] - 1s 161ms/step - loss: 0.0905 - acc: 1.0000 - val_loss: 0.7135 - val_acc: 0.5070\n",
            "Epoch 5/10\n",
            "7/7 [==============================] - 1s 99ms/step - loss: 0.0415 - acc: 1.0000 - val_loss: 0.7272 - val_acc: 0.5109\n",
            "Epoch 6/10\n",
            "7/7 [==============================] - 1s 111ms/step - loss: 0.0218 - acc: 1.0000 - val_loss: 0.7211 - val_acc: 0.5188\n",
            "Epoch 7/10\n",
            "7/7 [==============================] - 2s 159ms/step - loss: 0.0119 - acc: 1.0000 - val_loss: 0.7338 - val_acc: 0.5119\n",
            "Epoch 8/10\n",
            "7/7 [==============================] - 1s 106ms/step - loss: 0.0070 - acc: 1.0000 - val_loss: 0.7357 - val_acc: 0.5163\n",
            "Epoch 9/10\n",
            "7/7 [==============================] - 1s 111ms/step - loss: 0.0042 - acc: 1.0000 - val_loss: 0.7439 - val_acc: 0.5137\n",
            "Epoch 10/10\n",
            "7/7 [==============================] - 1s 104ms/step - loss: 0.0026 - acc: 1.0000 - val_loss: 0.7476 - val_acc: 0.5176\n"
          ]
        }
      ]
    },
    {
      "cell_type": "code",
      "source": [
        "# plots of results\n",
        "import matplotlib.pyplot as plt\n",
        "\n",
        "acc = history.history['acc']\n",
        "val_acc = history.history['val_acc']\n",
        "loss = history.history['loss']\n",
        "val_loss = history.history['val_loss']\n",
        "\n",
        "epochs = range(1, len(acc)+1)\n",
        "\n",
        "plt.plot(epochs, acc, 'bo', label='Training acc')\n",
        "plt.plot(epochs, val_acc, 'b', label='Validation acc')\n",
        "plt.title('Training and validation accuracy')\n",
        "plt.legend()\n",
        "\n",
        "plt.figure()\n",
        "\n",
        "plt.plot(epochs, loss, 'bo', label='Training loss')\n",
        "plt.plot(epochs, val_loss, 'b', label='Validation loss')\n",
        "plt.title('Training and validation loss')\n",
        "plt.legend()\n",
        "\n",
        "plt.show()"
      ],
      "metadata": {
        "id": "Ck1F675rxG7L",
        "colab": {
          "base_uri": "https://localhost:8080/",
          "height": 545
        },
        "outputId": "04cc4d73-45e6-494b-9a1a-affaafac3bdb"
      },
      "execution_count": 19,
      "outputs": [
        {
          "output_type": "display_data",
          "data": {
            "text/plain": [
              "<Figure size 432x288 with 1 Axes>"
            ],
            "image/png": "[encoded data removed]"
          },
          "metadata": {
            "needs_background": "light"
          }
        },
        {
          "output_type": "display_data",
          "data": {
            "text/plain": [
              "<Figure size 432x288 with 1 Axes>"
            ],
            "image/png": "[encoded data removed]"
          },
          "metadata": {
            "needs_background": "light"
          }
        }
      ]
    },
    {
      "cell_type": "markdown",
      "source": [
        "This model's accuracy, almost 52%, is worse than the previous one, so we finally choose the previous model to make our predictions"
      ],
      "metadata": {
        "id": "OI22IvZws8uQ"
      }
    },
    {
      "cell_type": "markdown",
      "source": [
        "Now, after choosing the best model, we need to evaluate on test set. To do that, we should bring the test data into the apropriate form, like we did earlier for the training data"
      ],
      "metadata": {
        "id": "6sVRQXyptK1B"
      }
    },
    {
      "cell_type": "code",
      "source": [
        "# tokenizing the test data\n",
        "test_dir = os.path.join(imdb_dir, 'test')\n",
        "\n",
        "labels = []\n",
        "texts = []\n",
        "\n",
        "for label_type in ['neg', 'pos']:\n",
        "  dir_name = os.path.join(test_dir, label_type)\n",
        "  for fname in sorted(os.listdir(dir_name)):\n",
        "    if fname[-4:] == '.txt':\n",
        "      f = open(os.path.join(dir_name, fname))\n",
        "      texts.append(f.read())\n",
        "      f.close()\n",
        "      if label_type == 'neg':\n",
        "        labels.append(0)\n",
        "      else:\n",
        "        labels.append(1)\n",
        "\n",
        "sequences = tokenizer.texts_to_sequences(texts)\n",
        "x_test = pad_sequences(sequences, maxlen=maxlen)\n",
        "y_test = np.asarray(labels)"
      ],
      "metadata": {
        "id": "0pjC_ylks6oG"
      },
      "execution_count": 20,
      "outputs": []
    },
    {
      "cell_type": "code",
      "source": [
        "# evaluate the previous and better model on the test set\n",
        "model.load_weights('pre_trained_glove_model.h5')\n",
        "model.evaluate(x_test, y_test)"
      ],
      "metadata": {
        "id": "fYR3IVDrxQNL",
        "colab": {
          "base_uri": "https://localhost:8080/"
        },
        "outputId": "ffff04aa-0c5c-4f1f-e30c-619a1b42fced"
      },
      "execution_count": 21,
      "outputs": [
        {
          "output_type": "stream",
          "name": "stdout",
          "text": [
            "782/782 [==============================] - 7s 9ms/step - loss: 0.7559 - acc: 0.5690\n"
          ]
        },
        {
          "output_type": "execute_result",
          "data": {
            "text/plain": [
              "[0.755906343460083, 0.5690400004386902]"
            ]
          },
          "metadata": {},
          "execution_count": 21
        }
      ]
    },
    {
      "cell_type": "code",
      "source": [],
      "metadata": {
        "id": "jcL2MkXLxKh7"
      },
      "execution_count": null,
      "outputs": []
    },
    {
      "cell_type": "markdown",
      "source": [
        "## Example 2. IMDB movie-review sentiment classification with RNNs"
      ],
      "metadata": {
        "id": "rdaww9gqJCmL"
      }
    },
    {
      "cell_type": "markdown",
      "source": [
        "RNNs process sequences by iterating through the sequence elements and maintaining a state containing information relative to what it has seen so far. A RNN takes as input a sequence of vectors (timesteps, input_features) and it loops over timesteps, and at each timestep, it considers its current state at t and the input at t(shape of input_features), and combines them to obtain the output at t. Its initial state is an all 0 vector. Its output is a 2D tensor of shape (timesteps, output_features)(all @page 198) "
      ],
      "metadata": {
        "id": "wTuRurpEoooE"
      }
    },
    {
      "cell_type": "markdown",
      "source": [
        "Preparing the IMDB data"
      ],
      "metadata": {
        "id": "-iUuXo3gr7CY"
      }
    },
    {
      "cell_type": "code",
      "source": [
        "# load the IMDB data. remember that the loaded data are already tokenized, so we only need to vectorize these tokens(words)\n",
        "from keras.datasets import imdb\n",
        "from keras.utils import pad_sequences\n",
        "\n",
        "max_features = 10000  # number of words considered as features\n",
        "maxlen = 500  # keep texts with maximum 500 words\n",
        "batch_size = 32\n",
        "\n",
        "print('Loading data ...')\n",
        "(input_train, y_train), (input_test, y_test) = imdb.load_data(num_words=max_features)  # the data here is already tokenized\n",
        "print(len(input_train), 'train sequences')\n",
        "print(len(input_test), 'test sequences')\n",
        "\n",
        "print('\\nPad sequences (samples x time)')\n",
        "input_train = pad_sequences(input_train, maxlen)\n",
        "input_test = pad_sequences(input_test, maxlen)\n",
        "print('input_train shape:', input_train.shape)\n",
        "print('input_test shape:', input_test.shape)"
      ],
      "metadata": {
        "colab": {
          "base_uri": "https://localhost:8080/"
        },
        "id": "iVRuMBQer4KQ",
        "outputId": "ea63b931-61ce-4dd1-e79d-50b90919d029"
      },
      "execution_count": 22,
      "outputs": [
        {
          "output_type": "stream",
          "name": "stdout",
          "text": [
            "Loading data ...\n",
            "25000 train sequences\n",
            "25000 test sequences\n",
            "\n",
            "Pad sequences (samples x time)\n",
            "input_train shape: (25000, 500)\n",
            "input_test shape: (25000, 500)\n"
          ]
        }
      ]
    },
    {
      "cell_type": "markdown",
      "source": [
        "Train a model with embedding and simpleRNN layers"
      ],
      "metadata": {
        "id": "vsii374KtkQI"
      }
    },
    {
      "cell_type": "code",
      "source": [
        "# define, compile and train the model\n",
        "from keras.layers import SimpleRNN\n",
        "\n",
        "model = Sequential()\n",
        "model.add(Embedding(max_features, 32))\n",
        "model.add(SimpleRNN(32))  # returns only the output for each input sequence: 2D tensor of shape (batch_size, output_feature)\n",
        "model.add(Dense(1, activation='sigmoid'))\n",
        "\n",
        "model.compile(optimizer='rmsprop', loss='binary_crossentropy', metrics=['acc'])\n",
        "\n",
        "history = model.fit(input_train, y_train, epochs=10, batch_size=128, validation_split=0.2)"
      ],
      "metadata": {
        "id": "kCZI5cyfJFNs",
        "colab": {
          "base_uri": "https://localhost:8080/"
        },
        "outputId": "5c8e63bd-22dd-45b3-e5f0-9ba12a4f1d37"
      },
      "execution_count": 23,
      "outputs": [
        {
          "output_type": "stream",
          "name": "stdout",
          "text": [
            "Epoch 1/10\n",
            "157/157 [==============================] - 151s 952ms/step - loss: 0.6130 - acc: 0.6496 - val_loss: 0.4681 - val_acc: 0.7920\n",
            "Epoch 2/10\n",
            "157/157 [==============================] - 153s 976ms/step - loss: 0.3943 - acc: 0.8349 - val_loss: 0.3648 - val_acc: 0.8516\n",
            "Epoch 3/10\n",
            "157/157 [==============================] - 151s 963ms/step - loss: 0.2916 - acc: 0.8845 - val_loss: 0.4728 - val_acc: 0.7708\n",
            "Epoch 4/10\n",
            "157/157 [==============================] - 153s 975ms/step - loss: 0.2363 - acc: 0.9093 - val_loss: 0.4061 - val_acc: 0.8212\n",
            "Epoch 5/10\n",
            "157/157 [==============================] - 175s 1s/step - loss: 0.1949 - acc: 0.9251 - val_loss: 0.4537 - val_acc: 0.8098\n",
            "Epoch 6/10\n",
            "157/157 [==============================] - 158s 1s/step - loss: 0.1341 - acc: 0.9520 - val_loss: 0.4697 - val_acc: 0.8210\n",
            "Epoch 7/10\n",
            "157/157 [==============================] - 157s 1s/step - loss: 0.0864 - acc: 0.9704 - val_loss: 0.5143 - val_acc: 0.8282\n",
            "Epoch 8/10\n",
            "157/157 [==============================] - 147s 937ms/step - loss: 0.0646 - acc: 0.9793 - val_loss: 0.4763 - val_acc: 0.8494\n",
            "Epoch 9/10\n",
            "157/157 [==============================] - 155s 992ms/step - loss: 0.0355 - acc: 0.9896 - val_loss: 0.6019 - val_acc: 0.8224\n",
            "Epoch 10/10\n",
            "157/157 [==============================] - 158s 1s/step - loss: 0.0248 - acc: 0.9930 - val_loss: 0.7874 - val_acc: 0.7578\n"
          ]
        }
      ]
    },
    {
      "cell_type": "code",
      "source": [
        "# plotting results\n",
        "import matplotlib.pyplot as plt\n",
        "\n",
        "acc = history.history['acc']\n",
        "val_acc = history.history['val_acc']\n",
        "loss = history.history['loss']\n",
        "val_loss = history.history['val_loss']\n",
        "\n",
        "epochs = range(1, len(acc)+1)\n",
        "\n",
        "plt.plot(epochs, acc, 'bo', label='Training acc')\n",
        "plt.plot(epochs, val_acc, 'b', label='Validation acc')\n",
        "plt.title('Training and validation accuracy')\n",
        "plt.legend()\n",
        "\n",
        "plt.figure()\n",
        "\n",
        "plt.plot(epochs, loss, 'bo', label='Training loss')\n",
        "plt.plot(epochs, val_loss, 'b', label='Validation loss')\n",
        "plt.title('Training and validation loss')\n",
        "plt.legend()\n",
        "\n",
        "plt.show()"
      ],
      "metadata": {
        "id": "Xvys8raHJG98",
        "colab": {
          "base_uri": "https://localhost:8080/",
          "height": 545
        },
        "outputId": "be20761c-51f4-4e7d-8c95-edddca8790ab"
      },
      "execution_count": 24,
      "outputs": [
        {
          "output_type": "display_data",
          "data": {
            "text/plain": [
              "<Figure size 432x288 with 1 Axes>"
            ],
            "image/png": "[encoded data removed]"
          },
          "metadata": {
            "needs_background": "light"
          }
        },
        {
          "output_type": "display_data",
          "data": {
            "text/plain": [
              "<Figure size 432x288 with 1 Axes>"
            ],
            "image/png": "[encoded data removed]"
          },
          "metadata": {
            "needs_background": "light"
          }
        }
      ]
    },
    {
      "cell_type": "markdown",
      "source": [
        "As we can see, this model achieves a validation accuracy of almost 76%. Let's try to improve it by using more powerful RNNs"
      ],
      "metadata": {
        "id": "mLQYZwMpvU2W"
      }
    },
    {
      "cell_type": "markdown",
      "source": [
        "In practice, such long-term dependencies(simpleRNN) are impossible to learn, and as we keep adding layers to a network, the network eventually becomes untrainable(vanishing gradient problem). LSTMs and GRUs are designed to solve this problem(@page202): they allow past information to be reinjected at a later time, thus fighting the vanishing-gradient problem"
      ],
      "metadata": {
        "id": "_jSuOHjD3T3w"
      }
    },
    {
      "cell_type": "markdown",
      "source": [
        "Using the LSTM layer "
      ],
      "metadata": {
        "id": "tcv19zmb5YEe"
      }
    },
    {
      "cell_type": "code",
      "source": [
        "# define, compile and train the new model\n",
        "from keras.layers import LSTM\n",
        "\n",
        "model = Sequential()\n",
        "model.add(Embedding(max_features, 32))\n",
        "model.add(LSTM(32))  # returns only the output for each input sequence: 2D tensor of shape (batch_size, output_feature)\n",
        "model.add(Dense(1, activation='sigmoid'))\n",
        "\n",
        "model.compile(optimizer='rmsprop', loss='binary_crossentropy', metrics=['acc'])\n",
        "\n",
        "history = model.fit(input_train, y_train, epochs=10, batch_size=128, validation_split=0.2)"
      ],
      "metadata": {
        "id": "haJAsWFwJG2P",
        "colab": {
          "base_uri": "https://localhost:8080/"
        },
        "outputId": "750ac0b2-6c32-44f7-d8cf-fd0a147fbc27"
      },
      "execution_count": null,
      "outputs": [
        {
          "output_type": "stream",
          "name": "stdout",
          "text": [
            "Epoch 1/10\n",
            "157/157 [==============================] - 26s 123ms/step - loss: 0.5071 - acc: 0.7619 - val_loss: 0.4975 - val_acc: 0.7534\n",
            "Epoch 2/10\n",
            "157/157 [==============================] - 6s 41ms/step - loss: 0.2989 - acc: 0.8798 - val_loss: 0.3575 - val_acc: 0.8614\n",
            "Epoch 3/10\n",
            "157/157 [==============================] - 11s 72ms/step - loss: 0.2362 - acc: 0.9104 - val_loss: 0.3068 - val_acc: 0.8810\n",
            "Epoch 4/10\n",
            "157/157 [==============================] - 14s 93ms/step - loss: 0.1995 - acc: 0.9252 - val_loss: 0.3495 - val_acc: 0.8552\n",
            "Epoch 5/10\n",
            "157/157 [==============================] - 10s 67ms/step - loss: 0.1765 - acc: 0.9360 - val_loss: 0.3152 - val_acc: 0.8812\n",
            "Epoch 6/10\n",
            "157/157 [==============================] - 7s 44ms/step - loss: 0.1570 - acc: 0.9454 - val_loss: 0.3778 - val_acc: 0.8790\n",
            "Epoch 7/10\n",
            "157/157 [==============================] - 13s 81ms/step - loss: 0.1454 - acc: 0.9493 - val_loss: 0.3220 - val_acc: 0.8648\n",
            "Epoch 8/10\n",
            "157/157 [==============================] - 10s 67ms/step - loss: 0.1318 - acc: 0.9536 - val_loss: 0.3175 - val_acc: 0.8802\n",
            "Epoch 9/10\n",
            "157/157 [==============================] - 8s 52ms/step - loss: 0.1207 - acc: 0.9575 - val_loss: 0.4035 - val_acc: 0.8674\n",
            "Epoch 10/10\n",
            "157/157 [==============================] - 7s 48ms/step - loss: 0.1083 - acc: 0.9622 - val_loss: 0.4107 - val_acc: 0.8768\n"
          ]
        }
      ]
    },
    {
      "cell_type": "code",
      "source": [
        "# save the model\n",
        "model.save_weights('model_with_lstm')"
      ],
      "metadata": {
        "id": "37TpHxwTLv63"
      },
      "execution_count": 29,
      "outputs": []
    },
    {
      "cell_type": "code",
      "source": [
        "# and the plots now\n",
        "import matplotlib.pyplot as plt\n",
        "\n",
        "acc = history.history['acc']\n",
        "val_acc = history.history['val_acc']\n",
        "loss = history.history['loss']\n",
        "val_loss = history.history['val_loss']\n",
        "\n",
        "epochs = range(1, len(acc)+1)\n",
        "\n",
        "plt.plot(epochs, acc, 'bo', label='Training acc')\n",
        "plt.plot(epochs, val_acc, 'b', label='Validation acc')\n",
        "plt.title('Training and validation accuracy')\n",
        "plt.legend()\n",
        "\n",
        "plt.figure()\n",
        "\n",
        "plt.plot(epochs, loss, 'bo', label='Training loss')\n",
        "plt.plot(epochs, val_loss, 'b', label='Validation loss')\n",
        "plt.title('Training and validation loss')\n",
        "plt.legend()\n",
        "\n",
        "plt.show()"
      ],
      "metadata": {
        "colab": {
          "base_uri": "https://localhost:8080/",
          "height": 545
        },
        "id": "WojlmUf250Jo",
        "outputId": "7359bee5-68c0-4d4d-dbcf-b8c655794d03"
      },
      "execution_count": null,
      "outputs": [
        {
          "output_type": "display_data",
          "data": {
            "text/plain": [
              "<Figure size 432x288 with 1 Axes>"
            ],
            "image/png": "[encoded data removed]"
          },
          "metadata": {
            "needs_background": "light"
          }
        },
        {
          "output_type": "display_data",
          "data": {
            "text/plain": [
              "<Figure size 432x288 with 1 Axes>"
            ],
            "image/png": "[encoded data removed]"
          },
          "metadata": {
            "needs_background": "light"
          }
        }
      ]
    },
    {
      "cell_type": "markdown",
      "source": [
        "With a LSTM layer, we achieve a better validation accuracy(88%), beacause LSTM suffers less from the vanishing-gradient problem. Further actions like adding regularization and hyperparameter tuning can improve accuracy"
      ],
      "metadata": {
        "id": "yo0bf3aQ58y1"
      }
    },
    {
      "cell_type": "markdown",
      "source": [
        "Using a Bidirectional RNN"
      ],
      "metadata": {
        "id": "aYVA9F9WnVHf"
      }
    },
    {
      "cell_type": "code",
      "source": [
        "# reverse sequences\n",
        "input_train = [x[::-1] for x in input_train]\n",
        "input_test = [x[::-1] for x in input_test]\n",
        "\n",
        "# and then pad these sequences\n",
        "input_train = pad_sequences(input_train, maxlen)\n",
        "input_test = pad_sequences(input_test, maxlen)"
      ],
      "metadata": {
        "id": "kweuwTUJnsxl"
      },
      "execution_count": 25,
      "outputs": []
    },
    {
      "cell_type": "code",
      "source": [
        "# define, compile and train the new model with bidirectional LSTM\n",
        "from keras import layers\n",
        "\n",
        "model = Sequential()\n",
        "model.add(layers.Embedding(max_features, 32))\n",
        "model.add(layers.Bidirectional(layers.LSTM(32)))  \n",
        "model.add(layers.Dense(1, activation='sigmoid'))\n",
        "\n",
        "model.compile(optimizer='rmsprop', loss='binary_crossentropy', metrics=['acc'])\n",
        "\n",
        "history = model.fit(input_train, y_train, epochs=10, batch_size=128, validation_split=0.2)"
      ],
      "metadata": {
        "id": "VFULoUDW50CR",
        "colab": {
          "base_uri": "https://localhost:8080/"
        },
        "outputId": "909d4316-1110-4d13-ab5e-53f35a06101d"
      },
      "execution_count": 26,
      "outputs": [
        {
          "output_type": "stream",
          "name": "stdout",
          "text": [
            "Epoch 1/10\n",
            "157/157 [==============================] - 24s 110ms/step - loss: 0.5462 - acc: 0.7266 - val_loss: 0.3827 - val_acc: 0.8434\n",
            "Epoch 2/10\n",
            "157/157 [==============================] - 22s 141ms/step - loss: 0.3324 - acc: 0.8678 - val_loss: 0.3331 - val_acc: 0.8652\n",
            "Epoch 3/10\n",
            "157/157 [==============================] - 18s 116ms/step - loss: 0.2463 - acc: 0.9062 - val_loss: 0.4665 - val_acc: 0.8438\n",
            "Epoch 4/10\n",
            "157/157 [==============================] - 18s 113ms/step - loss: 0.2139 - acc: 0.9201 - val_loss: 0.3604 - val_acc: 0.8748\n",
            "Epoch 5/10\n",
            "157/157 [==============================] - 13s 80ms/step - loss: 0.1861 - acc: 0.9320 - val_loss: 0.3642 - val_acc: 0.8594\n",
            "Epoch 6/10\n",
            "157/157 [==============================] - 20s 126ms/step - loss: 0.1636 - acc: 0.9419 - val_loss: 0.3064 - val_acc: 0.8854\n",
            "Epoch 7/10\n",
            "157/157 [==============================] - 15s 99ms/step - loss: 0.1464 - acc: 0.9487 - val_loss: 0.3285 - val_acc: 0.8864\n",
            "Epoch 8/10\n",
            "157/157 [==============================] - 20s 131ms/step - loss: 0.1371 - acc: 0.9516 - val_loss: 0.3479 - val_acc: 0.8810\n",
            "Epoch 9/10\n",
            "157/157 [==============================] - 13s 80ms/step - loss: 0.1259 - acc: 0.9567 - val_loss: 0.3366 - val_acc: 0.8832\n",
            "Epoch 10/10\n",
            "157/157 [==============================] - 18s 118ms/step - loss: 0.1136 - acc: 0.9609 - val_loss: 0.4950 - val_acc: 0.8194\n"
          ]
        }
      ]
    },
    {
      "cell_type": "code",
      "source": [
        "# plotting results\n",
        "import matplotlib.pyplot as plt\n",
        "\n",
        "acc = history.history['acc']\n",
        "val_acc = history.history['val_acc']\n",
        "loss = history.history['loss']\n",
        "val_loss = history.history['val_loss']\n",
        "\n",
        "epochs = range(1, len(acc)+1)\n",
        "\n",
        "plt.plot(epochs, acc, 'bo', label='Training acc')\n",
        "plt.plot(epochs, val_acc, 'b', label='Validation acc')\n",
        "plt.title('Training and validation accuracy')\n",
        "plt.legend()\n",
        "\n",
        "plt.figure()\n",
        "\n",
        "plt.plot(epochs, loss, 'bo', label='Training loss')\n",
        "plt.plot(epochs, val_loss, 'b', label='Validation loss')\n",
        "plt.title('Training and validation loss')\n",
        "plt.legend()\n",
        "\n",
        "plt.show()"
      ],
      "metadata": {
        "id": "7yNrPtZ1nhZY",
        "colab": {
          "base_uri": "https://localhost:8080/",
          "height": 545
        },
        "outputId": "b1249558-1968-4b24-b5dc-c2a0d701249b"
      },
      "execution_count": 27,
      "outputs": [
        {
          "output_type": "display_data",
          "data": {
            "text/plain": [
              "<Figure size 432x288 with 1 Axes>"
            ],
            "image/png": "[encoded data removed]"
          },
          "metadata": {
            "needs_background": "light"
          }
        },
        {
          "output_type": "display_data",
          "data": {
            "text/plain": [
              "<Figure size 432x288 with 1 Axes>"
            ],
            "image/png": "[encoded data removed]"
          },
          "metadata": {
            "needs_background": "light"
          }
        }
      ]
    },
    {
      "cell_type": "markdown",
      "source": [
        "We observe that the model with a LSTM layer performs the best, even from that one with a bidirectional layer. Obviously, we need to try more things to improve this model's accuracy"
      ],
      "metadata": {
        "id": "VbhS-GGxHMDb"
      }
    },
    {
      "cell_type": "code",
      "source": [],
      "metadata": {
        "id": "T2WqPm0qnZ1n"
      },
      "execution_count": null,
      "outputs": []
    },
    {
      "cell_type": "markdown",
      "source": [
        "## Example 3. Air temperature-forecasting"
      ],
      "metadata": {
        "id": "I1TYnKj7JHey"
      }
    },
    {
      "cell_type": "markdown",
      "source": [
        "Some advanced techniques to improve the performance and generalization power of RNNs: 1) recurrent dropout, 2) staking recurrent layers and 3) bidirectional recurrent layers"
      ],
      "metadata": {
        "id": "u5Mxprt67LAf"
      }
    },
    {
      "cell_type": "markdown",
      "source": [
        "Load the data "
      ],
      "metadata": {
        "id": "bvI7O7KHD91E"
      }
    },
    {
      "cell_type": "code",
      "source": [
        "!wget https://s3.amazonaws.com/keras-datasets/jena_climate_2009_2016.csv.zip\n",
        "!unzip jena_climate_2009_2016.csv.zip"
      ],
      "metadata": {
        "id": "ZNkobrReJKZ9",
        "colab": {
          "base_uri": "https://localhost:8080/"
        },
        "outputId": "50189fba-2b92-4b16-bd83-026867abbb30"
      },
      "execution_count": 3,
      "outputs": [
        {
          "output_type": "stream",
          "name": "stdout",
          "text": [
            "--2022-11-30 13:23:27--  https://s3.amazonaws.com/keras-datasets/jena_climate_2009_2016.csv.zip\n",
            "Resolving s3.amazonaws.com (s3.amazonaws.com)... 52.217.229.184, 52.216.139.141, 52.217.50.62, ...\n",
            "Connecting to s3.amazonaws.com (s3.amazonaws.com)|52.217.229.184|:443... connected.\n",
            "HTTP request sent, awaiting response... 200 OK\n",
            "Length: 13565642 (13M) [application/zip]\n",
            "Saving to: ‘jena_climate_2009_2016.csv.zip’\n",
            "\n",
            "jena_climate_2009_2 100%[===================>]  12.94M  39.8MB/s    in 0.3s    \n",
            "\n",
            "2022-11-30 13:23:28 (39.8 MB/s) - ‘jena_climate_2009_2016.csv.zip’ saved [13565642/13565642]\n",
            "\n",
            "Archive:  jena_climate_2009_2016.csv.zip\n",
            "  inflating: jena_climate_2009_2016.csv  \n",
            "  inflating: __MACOSX/._jena_climate_2009_2016.csv  \n"
          ]
        }
      ]
    },
    {
      "cell_type": "code",
      "source": [
        "# Jena weather dataset exploring\n",
        "import os\n",
        "fname = os.path.join(\"jena_climate_2009_2016.csv\")\n",
        "\n",
        "f = open(fname)\n",
        "data = f.read()\n",
        "f.close()\n",
        "\n",
        "lines = data.split(\"\\n\")\n",
        "header = lines[0].split(\",\")\n",
        "lines = lines[1:]\n",
        "print(header)\n",
        "print(len(lines))"
      ],
      "metadata": {
        "id": "AGEtcgNdJKWQ",
        "colab": {
          "base_uri": "https://localhost:8080/"
        },
        "outputId": "c28d617c-14d2-48c6-bbd8-6ef3014a06a4"
      },
      "execution_count": 4,
      "outputs": [
        {
          "output_type": "stream",
          "name": "stdout",
          "text": [
            "['\"Date Time\"', '\"p (mbar)\"', '\"T (degC)\"', '\"Tpot (K)\"', '\"Tdew (degC)\"', '\"rh (%)\"', '\"VPmax (mbar)\"', '\"VPact (mbar)\"', '\"VPdef (mbar)\"', '\"sh (g/kg)\"', '\"H2OC (mmol/mol)\"', '\"rho (g/m**3)\"', '\"wv (m/s)\"', '\"max. wv (m/s)\"', '\"wd (deg)\"']\n",
            "420451\n"
          ]
        }
      ]
    },
    {
      "cell_type": "markdown",
      "source": [
        "Now, we need to convert all these numerical values into a numpy array"
      ],
      "metadata": {
        "id": "1MrKMELbFy0A"
      }
    },
    {
      "cell_type": "code",
      "source": [
        "# parsing the data\n",
        "import numpy as np\n",
        "temperature = np.zeros((len(lines),))\n",
        "raw_data = np.zeros((len(lines), len(header) - 1))\n",
        "for i, line in enumerate(lines):\n",
        "    values = [float(x) for x in line.split(\",\")[1:]]\n",
        "    temperature[i] = values[1]\n",
        "    raw_data[i, :] = values[:]"
      ],
      "metadata": {
        "id": "OHbPwChuEo_N"
      },
      "execution_count": 5,
      "outputs": []
    },
    {
      "cell_type": "code",
      "source": [
        "# plot the temperature timeseries\n",
        "from matplotlib import pyplot as plt\n",
        "plt.plot(range(len(temperature)), temperature)"
      ],
      "metadata": {
        "colab": {
          "base_uri": "https://localhost:8080/",
          "height": 286
        },
        "id": "XDcbNdK_HQx2",
        "outputId": "82b8e78b-13ee-479a-b029-027912b80303"
      },
      "execution_count": 6,
      "outputs": [
        {
          "output_type": "execute_result",
          "data": {
            "text/plain": [
              "[<matplotlib.lines.Line2D at 0x7f7c033cfed0>]"
            ]
          },
          "metadata": {},
          "execution_count": 6
        },
        {
          "output_type": "display_data",
          "data": {
            "text/plain": [
              "<Figure size 432x288 with 1 Axes>"
            ],
            "image/png": "[encoded data removed]"
          },
          "metadata": {
            "needs_background": "light"
          }
        }
      ]
    },
    {
      "cell_type": "code",
      "source": [
        "# plot the first 10 days of the temperature timeseries @page209\n",
        "plt.plot(range(1440), temperature[:1440])"
      ],
      "metadata": {
        "colab": {
          "base_uri": "https://localhost:8080/",
          "height": 283
        },
        "id": "Dr2fXsaeH8SM",
        "outputId": "d14052a6-10e0-423a-e62f-76aa94421065"
      },
      "execution_count": 7,
      "outputs": [
        {
          "output_type": "execute_result",
          "data": {
            "text/plain": [
              "[<matplotlib.lines.Line2D at 0x7f7c02ea7f50>]"
            ]
          },
          "metadata": {},
          "execution_count": 7
        },
        {
          "output_type": "display_data",
          "data": {
            "text/plain": [
              "<Figure size 432x288 with 1 Axes>"
            ],
            "image/png": "[encoded data removed]"
          },
          "metadata": {
            "needs_background": "light"
          }
        }
      ]
    },
    {
      "cell_type": "code",
      "source": [
        "# do you know how many data we have?\n",
        "num_train_samples = int(0.5 * len(raw_data))\n",
        "num_val_samples = int(0.25 * len(raw_data))\n",
        "num_test_samples = len(raw_data) - num_train_samples - num_val_samples\n",
        "print(\"num_train_samples:\", num_train_samples)\n",
        "print(\"num_val_samples:\", num_val_samples)\n",
        "print(\"num_test_samples:\", num_test_samples)"
      ],
      "metadata": {
        "colab": {
          "base_uri": "https://localhost:8080/"
        },
        "id": "xLXEkr2erVW5",
        "outputId": "0013e957-2bcf-47ce-dcaf-7f88b2d5c975"
      },
      "execution_count": 8,
      "outputs": [
        {
          "output_type": "stream",
          "name": "stdout",
          "text": [
            "num_train_samples: 210225\n",
            "num_val_samples: 105112\n",
            "num_test_samples: 105114\n"
          ]
        }
      ]
    },
    {
      "cell_type": "markdown",
      "source": [
        "Prepare the data"
      ],
      "metadata": {
        "id": "EoXa6iRNIpbF"
      }
    },
    {
      "cell_type": "markdown",
      "source": [
        "The data are already numerical, so we don't need to do any vectorization here. Because there are flactuations in values of different features, we will normalize these values. We will also create batches of data instead of float data with a generator"
      ],
      "metadata": {
        "id": "EeEPlvB5JDvT"
      }
    },
    {
      "cell_type": "code",
      "source": [
        "# normalize the data\n",
        "mean = raw_data[:num_train_samples].mean(axis=0)\n",
        "raw_data -= mean\n",
        "std = raw_data[:num_train_samples].std(axis=0)\n",
        "raw_data /= std"
      ],
      "metadata": {
        "id": "qyFEMCEPIrGC"
      },
      "execution_count": 9,
      "outputs": []
    },
    {
      "cell_type": "markdown",
      "source": [
        "Instead of using a custom generator approach, like the book does, we will better use keras.utils.timeseries_dataset_from_array to transform the data to the appropriate form\n",
        "\n",
        "\n",
        "\n"
      ],
      "metadata": {
        "id": "5JMOZJbHMYFl"
      }
    },
    {
      "cell_type": "code",
      "source": [
        "# transform a timeseries dataset\n",
        "import numpy as np\n",
        "from tensorflow import keras\n",
        "int_sequence = np.arange(10)\n",
        "dummy_dataset = keras.utils.timeseries_dataset_from_array(\n",
        "    data=int_sequence[:-3],\n",
        "    targets=int_sequence[3:],\n",
        "    sequence_length=3,\n",
        "    batch_size=2,\n",
        ")\n",
        "\n",
        "for inputs, targets in dummy_dataset:\n",
        "    for i in range(inputs.shape[0]):\n",
        "        print([int(x) for x in inputs[i]], int(targets[i]))"
      ],
      "metadata": {
        "id": "CgNixtdCIq1M",
        "colab": {
          "base_uri": "https://localhost:8080/"
        },
        "outputId": "b83d91b0-d109-4193-b319-d4cbeda6c934"
      },
      "execution_count": 10,
      "outputs": [
        {
          "output_type": "stream",
          "name": "stdout",
          "text": [
            "[0, 1, 2] 3\n",
            "[1, 2, 3] 4\n",
            "[2, 3, 4] 5\n",
            "[3, 4, 5] 6\n",
            "[4, 5, 6] 7\n"
          ]
        }
      ]
    },
    {
      "cell_type": "code",
      "source": [
        "# prepare the training, validation and test timeseries datasets\n",
        "sampling_rate = 6\n",
        "sequence_length = 120\n",
        "delay = sampling_rate * (sequence_length + 24 - 1)\n",
        "batch_size = 256\n",
        "\n",
        "train_dataset = keras.utils.timeseries_dataset_from_array(\n",
        "    raw_data[:-delay],\n",
        "    targets=temperature[delay:],\n",
        "    sampling_rate=sampling_rate,\n",
        "    sequence_length=sequence_length,\n",
        "    shuffle=True,\n",
        "    batch_size=batch_size,\n",
        "    start_index=0,\n",
        "    end_index=num_train_samples)\n",
        "\n",
        "val_dataset = keras.utils.timeseries_dataset_from_array(\n",
        "    raw_data[:-delay],\n",
        "    targets=temperature[delay:],\n",
        "    sampling_rate=sampling_rate,\n",
        "    sequence_length=sequence_length,\n",
        "    shuffle=True,\n",
        "    batch_size=batch_size,\n",
        "    start_index=num_train_samples,\n",
        "    end_index=num_train_samples + num_val_samples)\n",
        "\n",
        "test_dataset = keras.utils.timeseries_dataset_from_array(\n",
        "    raw_data[:-delay],\n",
        "    targets=temperature[delay:],\n",
        "    sampling_rate=sampling_rate,\n",
        "    sequence_length=sequence_length,\n",
        "    shuffle=True,\n",
        "    batch_size=batch_size,\n",
        "    start_index=num_train_samples + num_val_samples)"
      ],
      "metadata": {
        "id": "wVBgQ5oSNOlc"
      },
      "execution_count": 11,
      "outputs": []
    },
    {
      "cell_type": "code",
      "source": [
        "# inspect the output of one of the above created datasets\n",
        "for samples, targets in train_dataset:\n",
        "    print(\"samples shape:\", samples.shape)\n",
        "    print(\"targets shape:\", targets.shape)\n",
        "    break"
      ],
      "metadata": {
        "colab": {
          "base_uri": "https://localhost:8080/"
        },
        "id": "LYGwqW3Isk-5",
        "outputId": "f83fe12a-0b84-45bb-d61d-8b9d73ad51dc"
      },
      "execution_count": 12,
      "outputs": [
        {
          "output_type": "stream",
          "name": "stdout",
          "text": [
            "samples shape: (256, 120, 14)\n",
            "targets shape: (256,)\n"
          ]
        }
      ]
    },
    {
      "cell_type": "markdown",
      "source": [
        "When we are approaching a problem for which there is no known solution, we use our common-sense baseline. For example, here we want to predict a continuous value, the temperature, and we will use mae as a metric"
      ],
      "metadata": {
        "id": "XKrETNHOQDix"
      }
    },
    {
      "cell_type": "code",
      "source": [
        "# computing the common-sense baseline MAE\n",
        "def evaluate_naive_method(dataset):\n",
        "    total_abs_err = 0.\n",
        "    samples_seen = 0\n",
        "    for samples, targets in dataset:\n",
        "        preds = samples[:, -1, 1] * std[1] + mean[1]\n",
        "        total_abs_err += np.sum(np.abs(preds - targets))\n",
        "        samples_seen += samples.shape[0]\n",
        "    return total_abs_err / samples_seen\n",
        "\n",
        "print(f\"Validation MAE: {evaluate_naive_method(val_dataset):.2f}\")\n",
        "print(f\"Test MAE: {evaluate_naive_method(test_dataset):.2f}\")"
      ],
      "metadata": {
        "colab": {
          "base_uri": "https://localhost:8080/"
        },
        "id": "3efgKdfkNQbz",
        "outputId": "be3f50ce-142b-4e96-b8de-7db52c430b4c"
      },
      "execution_count": 13,
      "outputs": [
        {
          "output_type": "stream",
          "name": "stdout",
          "text": [
            "Validation MAE: 2.44\n",
            "Test MAE: 2.62\n"
          ]
        }
      ]
    },
    {
      "cell_type": "markdown",
      "source": [
        "Model 1: a basic NN"
      ],
      "metadata": {
        "id": "leqiHvanSgU1"
      }
    },
    {
      "cell_type": "code",
      "source": [
        "# define, compile and train the model 1\n",
        "from tensorflow import keras\n",
        "from tensorflow.keras import layers\n",
        "\n",
        "inputs = keras.Input(shape=(sequence_length, raw_data.shape[-1]))\n",
        "x = layers.Flatten()(inputs)\n",
        "x = layers.Dense(16, activation=\"relu\")(x)\n",
        "outputs = layers.Dense(1)(x)\n",
        "model = keras.Model(inputs, outputs)\n",
        "\n",
        "callbacks = [\n",
        "    keras.callbacks.ModelCheckpoint(\"jena_dense.keras\",\n",
        "                                    save_best_only=True)\n",
        "]\n",
        "model.compile(optimizer=\"rmsprop\", loss=\"mse\", metrics=[\"mae\"])\n",
        "model.summary()\n",
        "\n",
        "history = model.fit(train_dataset,\n",
        "                    epochs=10,\n",
        "                    validation_data=val_dataset,\n",
        "                    callbacks=callbacks)"
      ],
      "metadata": {
        "colab": {
          "base_uri": "https://localhost:8080/"
        },
        "id": "diqb6LA7R6ku",
        "outputId": "369a1904-caf0-4cfc-b437-554a498a159d"
      },
      "execution_count": 15,
      "outputs": [
        {
          "output_type": "stream",
          "name": "stdout",
          "text": [
            "Model: \"model_1\"\n",
            "_________________________________________________________________\n",
            " Layer (type)                Output Shape              Param #   \n",
            "=================================================================\n",
            " input_2 (InputLayer)        [(None, 120, 14)]         0         \n",
            "                                                                 \n",
            " flatten_1 (Flatten)         (None, 1680)              0         \n",
            "                                                                 \n",
            " dense_2 (Dense)             (None, 16)                26896     \n",
            "                                                                 \n",
            " dense_3 (Dense)             (None, 1)                 17        \n",
            "                                                                 \n",
            "=================================================================\n",
            "Total params: 26,913\n",
            "Trainable params: 26,913\n",
            "Non-trainable params: 0\n",
            "_________________________________________________________________\n",
            "Epoch 1/10\n",
            "819/819 [==============================] - 53s 64ms/step - loss: 14.3782 - mae: 2.9201 - val_loss: 12.3174 - val_mae: 2.7628\n",
            "Epoch 2/10\n",
            "819/819 [==============================] - 58s 71ms/step - loss: 9.7871 - mae: 2.4593 - val_loss: 10.7807 - val_mae: 2.6066\n",
            "Epoch 3/10\n",
            "819/819 [==============================] - 53s 64ms/step - loss: 8.9946 - mae: 2.3614 - val_loss: 13.5348 - val_mae: 2.9035\n",
            "Epoch 4/10\n",
            "819/819 [==============================] - 51s 62ms/step - loss: 8.4045 - mae: 2.2871 - val_loss: 10.5252 - val_mae: 2.5793\n",
            "Epoch 5/10\n",
            "819/819 [==============================] - 57s 68ms/step - loss: 8.0566 - mae: 2.2416 - val_loss: 11.3030 - val_mae: 2.6508\n",
            "Epoch 6/10\n",
            "819/819 [==============================] - 62s 75ms/step - loss: 7.7831 - mae: 2.2021 - val_loss: 10.8346 - val_mae: 2.6036\n",
            "Epoch 7/10\n",
            "819/819 [==============================] - 69s 84ms/step - loss: 7.5927 - mae: 2.1757 - val_loss: 10.9928 - val_mae: 2.6321\n",
            "Epoch 8/10\n",
            "819/819 [==============================] - 61s 74ms/step - loss: 7.4093 - mae: 2.1486 - val_loss: 11.1307 - val_mae: 2.6445\n",
            "Epoch 9/10\n",
            "819/819 [==============================] - 50s 60ms/step - loss: 7.2605 - mae: 2.1296 - val_loss: 10.9019 - val_mae: 2.6096\n",
            "Epoch 10/10\n",
            "819/819 [==============================] - 52s 63ms/step - loss: 7.1574 - mae: 2.1122 - val_loss: 11.2488 - val_mae: 2.6523\n"
          ]
        }
      ]
    },
    {
      "cell_type": "code",
      "source": [
        "# plotting results of model 1\n",
        "import matplotlib.pyplot as plt\n",
        "loss = history.history[\"mae\"]\n",
        "val_loss = history.history[\"val_mae\"]\n",
        "epochs = range(1, len(loss) + 1)\n",
        "plt.figure()\n",
        "plt.plot(epochs, loss, \"bo\", label=\"Training MAE\")\n",
        "plt.plot(epochs, val_loss, \"b\", label=\"Validation MAE\")\n",
        "plt.title(\"Training and validation MAE\")\n",
        "plt.legend()\n",
        "plt.show()"
      ],
      "metadata": {
        "id": "gcDVpBcJT952",
        "colab": {
          "base_uri": "https://localhost:8080/",
          "height": 281
        },
        "outputId": "eb4ca36e-56ab-4f64-c79c-9a5a31e95ea6"
      },
      "execution_count": 16,
      "outputs": [
        {
          "output_type": "display_data",
          "data": {
            "text/plain": [
              "<Figure size 432x288 with 1 Axes>"
            ],
            "image/png": "[encoded data removed]"
          },
          "metadata": {
            "needs_background": "light"
          }
        }
      ]
    },
    {
      "cell_type": "markdown",
      "source": [
        "Model 2: a GRU based model"
      ],
      "metadata": {
        "id": "1Az0WF17Wrmr"
      }
    },
    {
      "cell_type": "code",
      "source": [
        "# define, compile and train the model 2\n",
        "from keras.models import Sequential\n",
        "\n",
        "model = Sequential()\n",
        "model.add(layers.GRU(32, input_shape=(sequence_length, raw_data.shape[-1])))\n",
        "model.add(layers.Dense(1))\n",
        "model.summary()\n",
        "\n",
        "callbacks = [\n",
        "    keras.callbacks.ModelCheckpoint(\"jena_gru.keras\",\n",
        "                                    save_best_only=True)\n",
        "]\n",
        "model.compile(optimizer=\"rmsprop\", loss=\"mse\", metrics=[\"mae\"])\n",
        "history = model.fit(train_dataset,\n",
        "                    epochs=10,\n",
        "                    validation_data=val_dataset,\n",
        "                    callbacks=callbacks)"
      ],
      "metadata": {
        "id": "z7hTk6GZPpJd",
        "colab": {
          "base_uri": "https://localhost:8080/"
        },
        "outputId": "5947b660-ac65-4a20-8b2c-9d60a1ca6f9e"
      },
      "execution_count": 26,
      "outputs": [
        {
          "output_type": "stream",
          "name": "stdout",
          "text": [
            "Model: \"sequential\"\n",
            "_________________________________________________________________\n",
            " Layer (type)                Output Shape              Param #   \n",
            "=================================================================\n",
            " gru_1 (GRU)                 (None, 32)                4608      \n",
            "                                                                 \n",
            " dense_6 (Dense)             (None, 1)                 33        \n",
            "                                                                 \n",
            "=================================================================\n",
            "Total params: 4,641\n",
            "Trainable params: 4,641\n",
            "Non-trainable params: 0\n",
            "_________________________________________________________________\n",
            "Model: \"sequential\"\n",
            "_________________________________________________________________\n",
            " Layer (type)                Output Shape              Param #   \n",
            "=================================================================\n",
            " gru_1 (GRU)                 (None, 32)                4608      \n",
            "                                                                 \n",
            " dense_6 (Dense)             (None, 1)                 33        \n",
            "                                                                 \n",
            "=================================================================\n",
            "Total params: 4,641\n",
            "Trainable params: 4,641\n",
            "Non-trainable params: 0\n",
            "_________________________________________________________________\n",
            "Epoch 1/10\n",
            "819/819 [==============================] - 243s 294ms/step - loss: 22.9170 - mae: 3.4257 - val_loss: 9.7022 - val_mae: 2.3920\n",
            "Epoch 2/10\n",
            "819/819 [==============================] - 214s 261ms/step - loss: 9.2886 - mae: 2.3810 - val_loss: 8.9064 - val_mae: 2.2991\n",
            "Epoch 3/10\n",
            "819/819 [==============================] - 201s 245ms/step - loss: 8.5054 - mae: 2.2834 - val_loss: 9.8711 - val_mae: 2.3861\n",
            "Epoch 4/10\n",
            "819/819 [==============================] - 187s 228ms/step - loss: 8.0641 - mae: 2.2277 - val_loss: 10.0238 - val_mae: 2.4200\n",
            "Epoch 5/10\n",
            "819/819 [==============================] - 192s 234ms/step - loss: 7.7073 - mae: 2.1831 - val_loss: 9.7273 - val_mae: 2.3873\n",
            "Epoch 6/10\n",
            "819/819 [==============================] - 189s 230ms/step - loss: 7.3554 - mae: 2.1341 - val_loss: 10.1934 - val_mae: 2.4457\n",
            "Epoch 7/10\n",
            "819/819 [==============================] - 195s 238ms/step - loss: 7.0054 - mae: 2.0848 - val_loss: 10.4063 - val_mae: 2.4850\n",
            "Epoch 8/10\n",
            "819/819 [==============================] - 190s 232ms/step - loss: 6.6481 - mae: 2.0318 - val_loss: 10.0736 - val_mae: 2.4595\n",
            "Epoch 9/10\n",
            "819/819 [==============================] - 196s 239ms/step - loss: 6.2832 - mae: 1.9741 - val_loss: 10.3681 - val_mae: 2.4993\n",
            "Epoch 10/10\n",
            "819/819 [==============================] - 180s 219ms/step - loss: 5.9517 - mae: 1.9193 - val_loss: 11.3811 - val_mae: 2.6110\n"
          ]
        }
      ]
    },
    {
      "cell_type": "code",
      "source": [
        "# plotting results of model 2\n",
        "loss = history.history[\"mae\"]\n",
        "val_loss = history.history[\"val_mae\"]\n",
        "epochs = range(1, len(loss) + 1)\n",
        "plt.figure()\n",
        "plt.plot(epochs, loss, \"bo\", label=\"Training MAE\")\n",
        "plt.plot(epochs, val_loss, \"b\", label=\"Validation MAE\")\n",
        "plt.title(\"Training and validation MAE\")\n",
        "plt.legend()\n",
        "plt.show()"
      ],
      "metadata": {
        "id": "oH7i0EwuXM37",
        "colab": {
          "base_uri": "https://localhost:8080/",
          "height": 281
        },
        "outputId": "d4aa9a14-df3a-49a5-c3c7-aef69bfdce20"
      },
      "execution_count": 27,
      "outputs": [
        {
          "output_type": "display_data",
          "data": {
            "text/plain": [
              "<Figure size 432x288 with 1 Axes>"
            ],
            "image/png": "[encoded data removed]"
          },
          "metadata": {
            "needs_background": "light"
          }
        }
      ]
    },
    {
      "cell_type": "markdown",
      "source": [
        "Model 3: a dropout-regularized GRU based model"
      ],
      "metadata": {
        "id": "kY_p5ITfXugq"
      }
    },
    {
      "cell_type": "code",
      "source": [
        "# define, compile and train the model 3\n",
        "model = Sequential()\n",
        "model.add(layers.GRU(32, dropout=0.2, recurrent_dropout=0.2, input_shape=(sequence_length, raw_data.shape[-1])))\n",
        "model.add(layers.Dense(1))\n",
        "model.summary()\n",
        "\n",
        "callbacks = [\n",
        "    keras.callbacks.ModelCheckpoint(\"jena_dropout_gru.keras\",\n",
        "                                    save_best_only=True)\n",
        "]\n",
        "model.compile(optimizer=\"rmsprop\", loss=\"mse\", metrics=[\"mae\"])\n",
        "history = model.fit(train_dataset,\n",
        "                    epochs=10,\n",
        "                    validation_data=val_dataset,\n",
        "                    callbacks=callbacks)"
      ],
      "metadata": {
        "id": "Nps18SkKX2qU",
        "colab": {
          "base_uri": "https://localhost:8080/"
        },
        "outputId": "e0969924-0788-4209-ced4-2d88db0f9b7b"
      },
      "execution_count": 28,
      "outputs": [
        {
          "output_type": "stream",
          "name": "stdout",
          "text": [
            "Model: \"sequential_1\"\n",
            "_________________________________________________________________\n",
            " Layer (type)                Output Shape              Param #   \n",
            "=================================================================\n",
            " gru_2 (GRU)                 (None, 32)                4608      \n",
            "                                                                 \n",
            " dense_7 (Dense)             (None, 1)                 33        \n",
            "                                                                 \n",
            "=================================================================\n",
            "Total params: 4,641\n",
            "Trainable params: 4,641\n",
            "Non-trainable params: 0\n",
            "_________________________________________________________________\n",
            "Epoch 1/10\n",
            "819/819 [==============================] - 277s 335ms/step - loss: 25.2598 - mae: 3.5995 - val_loss: 9.6161 - val_mae: 2.3950\n",
            "Epoch 2/10\n",
            "819/819 [==============================] - 270s 330ms/step - loss: 10.2187 - mae: 2.5070 - val_loss: 9.9633 - val_mae: 2.4017\n",
            "Epoch 3/10\n",
            "819/819 [==============================] - 277s 338ms/step - loss: 9.6516 - mae: 2.4364 - val_loss: 9.8280 - val_mae: 2.3961\n",
            "Epoch 4/10\n",
            "819/819 [==============================] - 260s 318ms/step - loss: 9.3020 - mae: 2.3916 - val_loss: 10.2477 - val_mae: 2.4375\n",
            "Epoch 5/10\n",
            "819/819 [==============================] - 270s 329ms/step - loss: 9.0162 - mae: 2.3528 - val_loss: 9.8262 - val_mae: 2.4066\n",
            "Epoch 6/10\n",
            "819/819 [==============================] - 268s 327ms/step - loss: 8.7822 - mae: 2.3222 - val_loss: 9.7319 - val_mae: 2.3914\n",
            "Epoch 7/10\n",
            "819/819 [==============================] - 263s 321ms/step - loss: 8.5660 - mae: 2.2944 - val_loss: 10.3554 - val_mae: 2.4566\n",
            "Epoch 8/10\n",
            "819/819 [==============================] - 267s 326ms/step - loss: 8.3533 - mae: 2.2665 - val_loss: 10.1934 - val_mae: 2.4461\n",
            "Epoch 9/10\n",
            "819/819 [==============================] - 272s 332ms/step - loss: 8.1599 - mae: 2.2422 - val_loss: 10.1309 - val_mae: 2.4446\n",
            "Epoch 10/10\n",
            "819/819 [==============================] - 267s 326ms/step - loss: 7.9951 - mae: 2.2165 - val_loss: 10.8180 - val_mae: 2.5167\n"
          ]
        }
      ]
    },
    {
      "cell_type": "code",
      "source": [
        "# plotting results of model 3\n",
        "loss = history.history[\"mae\"]\n",
        "val_loss = history.history[\"val_mae\"]\n",
        "epochs = range(1, len(loss) + 1)\n",
        "plt.figure()\n",
        "plt.plot(epochs, loss, \"bo\", label=\"Training MAE\")\n",
        "plt.plot(epochs, val_loss, \"b\", label=\"Validation MAE\")\n",
        "plt.title(\"Training and validation MAE\")\n",
        "plt.legend()\n",
        "plt.show()"
      ],
      "metadata": {
        "id": "seIHlVWUYHLp",
        "colab": {
          "base_uri": "https://localhost:8080/",
          "height": 281
        },
        "outputId": "f657b0d6-87e4-4e5b-e98b-1d83a4f1af49"
      },
      "execution_count": 30,
      "outputs": [
        {
          "output_type": "display_data",
          "data": {
            "text/plain": [
              "<Figure size 432x288 with 1 Axes>"
            ],
            "image/png": "[encoded data removed]"
          },
          "metadata": {
            "needs_background": "light"
          }
        }
      ]
    },
    {
      "cell_type": "markdown",
      "source": [
        "Model 4: staking recurrent layers"
      ],
      "metadata": {
        "id": "wv-3IRvdYKDq"
      }
    },
    {
      "cell_type": "code",
      "source": [
        "# define, compile and train the model 4\n",
        "model = Sequential()\n",
        "model.add(layers.GRU(32, dropout=0.1, recurrent_dropout=0.5,return_sequences=True, input_shape=(sequence_length, raw_data.shape[-1])))\n",
        "model.add(layers.GRU(64, activation='relu', dropout=0.1, recurrent_dropout=0.5))\n",
        "model.add(layers.Dense(1))\n",
        "model.summary()\n",
        "\n",
        "callbacks = [\n",
        "    keras.callbacks.ModelCheckpoint(\"jena_staking_grus.keras\",\n",
        "                                    save_best_only=True)\n",
        "]\n",
        "model.compile(optimizer=\"rmsprop\", loss=\"mse\", metrics=[\"mae\"])\n",
        "history = model.fit(train_dataset,\n",
        "                    epochs=10,\n",
        "                    validation_data=val_dataset,\n",
        "                    callbacks=callbacks)"
      ],
      "metadata": {
        "id": "dsfav7lxYO_K",
        "colab": {
          "base_uri": "https://localhost:8080/"
        },
        "outputId": "2fc6380d-1011-4c1f-f4de-6a5c50f21128"
      },
      "execution_count": 31,
      "outputs": [
        {
          "output_type": "stream",
          "name": "stdout",
          "text": [
            "Model: \"sequential_2\"\n",
            "_________________________________________________________________\n",
            " Layer (type)                Output Shape              Param #   \n",
            "=================================================================\n",
            " gru_3 (GRU)                 (None, 120, 32)           4608      \n",
            "                                                                 \n",
            " gru_4 (GRU)                 (None, 64)                18816     \n",
            "                                                                 \n",
            " dense_8 (Dense)             (None, 1)                 65        \n",
            "                                                                 \n",
            "=================================================================\n",
            "Total params: 23,489\n",
            "Trainable params: 23,489\n",
            "Non-trainable params: 0\n",
            "_________________________________________________________________\n",
            "Epoch 1/10\n",
            "819/819 [==============================] - 663s 803ms/step - loss: 14.7390 - mae: 2.8904 - val_loss: 9.2574 - val_mae: 2.3472\n",
            "Epoch 2/10\n",
            "819/819 [==============================] - 655s 800ms/step - loss: 9.7494 - mae: 2.4462 - val_loss: 9.3203 - val_mae: 2.3559\n",
            "Epoch 3/10\n",
            "819/819 [==============================] - 650s 794ms/step - loss: 8.9407 - mae: 2.3475 - val_loss: 10.2122 - val_mae: 2.4467\n",
            "Epoch 4/10\n",
            "819/819 [==============================] - 656s 801ms/step - loss: 8.2116 - mae: 2.2543 - val_loss: 10.7185 - val_mae: 2.5280\n",
            "Epoch 5/10\n",
            "819/819 [==============================] - 650s 793ms/step - loss: 7.5197 - mae: 2.1563 - val_loss: 10.4773 - val_mae: 2.5104\n",
            "Epoch 6/10\n",
            "819/819 [==============================] - 642s 784ms/step - loss: 6.9272 - mae: 2.0687 - val_loss: 11.0470 - val_mae: 2.5653\n",
            "Epoch 7/10\n",
            "819/819 [==============================] - 646s 789ms/step - loss: 6.3646 - mae: 1.9816 - val_loss: 12.0458 - val_mae: 2.6745\n",
            "Epoch 8/10\n",
            "819/819 [==============================] - 655s 800ms/step - loss: 5.9633 - mae: 1.9180 - val_loss: 12.4426 - val_mae: 2.7240\n",
            "Epoch 9/10\n",
            "819/819 [==============================] - 637s 778ms/step - loss: 5.5726 - mae: 1.8519 - val_loss: 12.4679 - val_mae: 2.7326\n",
            "Epoch 10/10\n",
            "819/819 [==============================] - 650s 793ms/step - loss: 5.2647 - mae: 1.7990 - val_loss: 12.7275 - val_mae: 2.7691\n"
          ]
        }
      ]
    },
    {
      "cell_type": "code",
      "source": [
        "# plotting results of model 4\n",
        "loss = history.history[\"mae\"]\n",
        "val_loss = history.history[\"val_mae\"]\n",
        "epochs = range(1, len(loss) + 1)\n",
        "plt.figure()\n",
        "plt.plot(epochs, loss, \"bo\", label=\"Training MAE\")\n",
        "plt.plot(epochs, val_loss, \"b\", label=\"Validation MAE\")\n",
        "plt.title(\"Training and validation MAE\")\n",
        "plt.legend()\n",
        "plt.show()"
      ],
      "metadata": {
        "id": "QxAj2si2YO3Q",
        "colab": {
          "base_uri": "https://localhost:8080/",
          "height": 281
        },
        "outputId": "aa32a6ac-4ccb-43f1-8672-896473a9ec8d"
      },
      "execution_count": 32,
      "outputs": [
        {
          "output_type": "display_data",
          "data": {
            "text/plain": [
              "<Figure size 432x288 with 1 Axes>"
            ],
            "image/png": "[encoded data removed]"
          },
          "metadata": {
            "needs_background": "light"
          }
        }
      ]
    },
    {
      "cell_type": "markdown",
      "source": [
        "Model 5: a bidirectional GRU model"
      ],
      "metadata": {
        "id": "lQT8-Aospded"
      }
    },
    {
      "cell_type": "code",
      "source": [
        "# define, compile and train the new model with bidirectional GRU\n",
        "from keras import layers\n",
        "\n",
        "model = Sequential()\n",
        "model.add(layers.Bidirectional(layers.GRU(32), input_shape=(sequence_length, raw_data.shape[-1])))  # you can also try LSTM instead of GRU\n",
        "model.add(layers.Dense(1))\n",
        "model.summary()\n",
        "\n",
        "callbacks = [\n",
        "    keras.callbacks.ModelCheckpoint(\"jena_bd_gru.keras\",\n",
        "                                    save_best_only=True)\n",
        "]\n",
        "model.compile(optimizer=\"rmsprop\", loss=\"mse\", metrics=[\"mae\"])\n",
        "history = model.fit(train_dataset,\n",
        "                    epochs=10,\n",
        "                    validation_data=val_dataset,\n",
        "                    callbacks=callbacks)"
      ],
      "metadata": {
        "id": "IRr6Hjqwpd0S",
        "colab": {
          "base_uri": "https://localhost:8080/"
        },
        "outputId": "5d95b0fc-5c51-4107-e474-181ec2a2df00"
      },
      "execution_count": 34,
      "outputs": [
        {
          "output_type": "stream",
          "name": "stdout",
          "text": [
            "Model: \"sequential_3\"\n",
            "_________________________________________________________________\n",
            " Layer (type)                Output Shape              Param #   \n",
            "=================================================================\n",
            " bidirectional (Bidirectiona  (None, 64)               9216      \n",
            " l)                                                              \n",
            "                                                                 \n",
            " dense_9 (Dense)             (None, 1)                 65        \n",
            "                                                                 \n",
            "=================================================================\n",
            "Total params: 9,281\n",
            "Trainable params: 9,281\n",
            "Non-trainable params: 0\n",
            "_________________________________________________________________\n",
            "Epoch 1/10\n",
            "819/819 [==============================] - 269s 323ms/step - loss: 16.8814 - mae: 2.9996 - val_loss: 8.8954 - val_mae: 2.3166\n",
            "Epoch 2/10\n",
            "819/819 [==============================] - 265s 323ms/step - loss: 8.7635 - mae: 2.3106 - val_loss: 9.0958 - val_mae: 2.3292\n",
            "Epoch 3/10\n",
            "819/819 [==============================] - 265s 323ms/step - loss: 7.7231 - mae: 2.1713 - val_loss: 9.3033 - val_mae: 2.3468\n",
            "Epoch 4/10\n",
            "819/819 [==============================] - 270s 330ms/step - loss: 6.9008 - mae: 2.0546 - val_loss: 10.3724 - val_mae: 2.4625\n",
            "Epoch 5/10\n",
            "819/819 [==============================] - 301s 367ms/step - loss: 6.0868 - mae: 1.9335 - val_loss: 10.3180 - val_mae: 2.4734\n",
            "Epoch 6/10\n",
            "819/819 [==============================] - 277s 338ms/step - loss: 5.3448 - mae: 1.8127 - val_loss: 11.1240 - val_mae: 2.5658\n",
            "Epoch 7/10\n",
            "819/819 [==============================] - 271s 331ms/step - loss: 4.7939 - mae: 1.7153 - val_loss: 11.6317 - val_mae: 2.6356\n",
            "Epoch 8/10\n",
            "819/819 [==============================] - 265s 324ms/step - loss: 4.3515 - mae: 1.6332 - val_loss: 11.7805 - val_mae: 2.6669\n",
            "Epoch 9/10\n",
            "819/819 [==============================] - 262s 320ms/step - loss: 3.9984 - mae: 1.5623 - val_loss: 12.2012 - val_mae: 2.7129\n",
            "Epoch 10/10\n",
            "819/819 [==============================] - 269s 329ms/step - loss: 3.7018 - mae: 1.5004 - val_loss: 12.5124 - val_mae: 2.7516\n"
          ]
        }
      ]
    },
    {
      "cell_type": "code",
      "source": [
        "# plotting results of model 5\n",
        "loss = history.history[\"mae\"]\n",
        "val_loss = history.history[\"val_mae\"]\n",
        "epochs = range(1, len(loss) + 1)\n",
        "plt.figure()\n",
        "plt.plot(epochs, loss, \"bo\", label=\"Training MAE\")\n",
        "plt.plot(epochs, val_loss, \"b\", label=\"Validation MAE\")\n",
        "plt.title(\"Training and validation MAE\")\n",
        "plt.legend()\n",
        "plt.show()"
      ],
      "metadata": {
        "id": "UZmIxgoWpgJ5",
        "colab": {
          "base_uri": "https://localhost:8080/",
          "height": 281
        },
        "outputId": "6cb07b85-13f6-410c-d691-700076a56e19"
      },
      "execution_count": 35,
      "outputs": [
        {
          "output_type": "display_data",
          "data": {
            "text/plain": [
              "<Figure size 432x288 with 1 Axes>"
            ],
            "image/png": "[encoded data removed]"
          },
          "metadata": {
            "needs_background": "light"
          }
        }
      ]
    },
    {
      "cell_type": "markdown",
      "source": [
        "The third model achieves the highest validation accuracy, so we keep it as our best choice. If we add some more layers to last model, maybe, it would perform better. Generally, a lot of combinations between different layers can be done"
      ],
      "metadata": {
        "id": "7VOaFQCzBeRl"
      }
    },
    {
      "cell_type": "code",
      "source": [
        "# evaluate the best performing model on the test set\n",
        "model = keras.models.load_model(\"jena_dropout_gru.keras\")\n",
        "print(f\"Test MAE: {model.evaluate(test_dataset)[1]:.2f}\")"
      ],
      "metadata": {
        "colab": {
          "base_uri": "https://localhost:8080/"
        },
        "id": "mOvFYWhpBd97",
        "outputId": "f07e8b62-65c5-4bfe-9319-8a9825420f6c"
      },
      "execution_count": 39,
      "outputs": [
        {
          "output_type": "stream",
          "name": "stdout",
          "text": [
            "405/405 [==============================] - 66s 159ms/step - loss: 10.0209 - mae: 2.4886\n",
            "Test MAE: 2.49\n"
          ]
        }
      ]
    },
    {
      "cell_type": "markdown",
      "source": [
        "What to try here:\n",
        "*   adjust the number of units in each recurrent layer in the stacked setup\n",
        "*   adjust the learning rate\n",
        "*   try LSTMs instead of GRUs, and, generally, try different combinations between different layers\n",
        "*   try bigger Dense layers on top of the model\n",
        "*   try retrain a model for this number of epoch that the model starts to overfit\n",
        "*   don't forget to run/evaluate the best performing model on your test set(we use validation to compare models between each other)\n",
        "\n",
        "\n",
        "\n",
        "\n",
        "\n"
      ],
      "metadata": {
        "id": "azNxuDwzvj6v"
      }
    },
    {
      "cell_type": "markdown",
      "source": [
        "Some tips from here:\n",
        "*   try simple models before expensive ones\n",
        "*   when you have data where temporal ordering matters, use RNNs\n",
        "*   stacked RNNs provide more representational power, but they are more expensive than single RNNs\n",
        "*   when approaching a new problem, first establish common-sense baselines for your metric of choice\n",
        "\n"
      ],
      "metadata": {
        "id": "vmpxv9PUuleD"
      }
    },
    {
      "cell_type": "code",
      "source": [],
      "metadata": {
        "id": "YxQZ0od3ulJB"
      },
      "execution_count": null,
      "outputs": []
    },
    {
      "cell_type": "markdown",
      "source": [
        "## Example 4. Sequence processing with ConvNets"
      ],
      "metadata": {
        "id": "8kJYwnvx8AZ3"
      }
    },
    {
      "cell_type": "markdown",
      "source": [
        "Small 1D convnets can offer a fast alternative to RNNs for simple tasks such as text classification and timeseries forecasting(@page225)"
      ],
      "metadata": {
        "id": "v8h2wXN98x6-"
      }
    },
    {
      "cell_type": "markdown",
      "source": [
        "Model 1: with a simple 1D convnet for IMDB movie-review sentiment classification"
      ],
      "metadata": {
        "id": "P97wg0UYDCNY"
      }
    },
    {
      "cell_type": "markdown",
      "source": [
        "We will use the same data as in example 2"
      ],
      "metadata": {
        "id": "_mBILF9h94Bp"
      }
    },
    {
      "cell_type": "code",
      "source": [
        "# load the IMDB data. remember that the loaded data are already tokenized, so we only need to vectorize these tokens(words)\n",
        "from keras.datasets import imdb\n",
        "from keras.utils import pad_sequences\n",
        "\n",
        "max_features = 10000  # number of words considered as features\n",
        "maxlen = 500  # keep texts with maximum 500 words\n",
        "batch_size = 32\n",
        "\n",
        "print('Loading data ...')\n",
        "(input_train, y_train), (input_test, y_test) = imdb.load_data(num_words=max_features)  # the data here is already tokenized\n",
        "print(len(input_train), 'train sequences')\n",
        "print(len(input_test), 'test sequences')\n",
        "\n",
        "print('\\nPad sequences (samples x time)')\n",
        "input_train = pad_sequences(input_train, maxlen)\n",
        "input_test = pad_sequences(input_test, maxlen)\n",
        "print('input_train shape:', input_train.shape)\n",
        "print('input_test shape:', input_test.shape)"
      ],
      "metadata": {
        "id": "FwCjOwWHJKSg",
        "colab": {
          "base_uri": "https://localhost:8080/"
        },
        "outputId": "27019fa2-5e15-4734-db51-40eab7d70c73"
      },
      "execution_count": null,
      "outputs": [
        {
          "output_type": "stream",
          "name": "stdout",
          "text": [
            "Loading data ...\n",
            "25000 train sequences\n",
            "25000 test sequences\n",
            "\n",
            "Pad sequences (samples x time)\n",
            "input_train shape: (25000, 500)\n",
            "input_test shape: (25000, 500)\n"
          ]
        }
      ]
    },
    {
      "cell_type": "code",
      "source": [
        "# define, compile and train the model\n",
        "from keras import layers\n",
        "from keras.optimizers import RMSprop\n",
        "\n",
        "model = Sequential()\n",
        "model.add(layers.Embedding(max_features, 128, input_length=maxlen))\n",
        "model.add(layers.Conv1D(32, 7, activation='relu'))  \n",
        "model.add(layers.MaxPooling1D(5))\n",
        "model.add(layers.Conv1D(32, 7, activation='relu'))\n",
        "model.add(layers.GlobalMaxPooling1D())\n",
        "model.add(layers.Dense(1))\n",
        "\n",
        "model.summary()\n",
        "\n",
        "model.compile(optimizer=RMSprop(lr=1e-4), loss='binary_crossentropy', metrics=['acc'])\n",
        "\n",
        "history = model.fit(input_train, y_train, epochs=10, batch_size=128, validation_split=0.2)"
      ],
      "metadata": {
        "id": "vUnGGNNSJJpF",
        "colab": {
          "base_uri": "https://localhost:8080/"
        },
        "outputId": "4e20d66b-4371-4934-c2a8-43db7b66a976"
      },
      "execution_count": null,
      "outputs": [
        {
          "output_type": "stream",
          "name": "stdout",
          "text": [
            "Model: \"sequential_5\"\n",
            "_________________________________________________________________\n",
            " Layer (type)                Output Shape              Param #   \n",
            "=================================================================\n",
            " embedding_5 (Embedding)     (None, 500, 128)          1280000   \n",
            "                                                                 \n",
            " conv1d (Conv1D)             (None, 494, 32)           28704     \n",
            "                                                                 \n",
            " max_pooling1d (MaxPooling1D  (None, 98, 32)           0         \n",
            " )                                                               \n",
            "                                                                 \n",
            " conv1d_1 (Conv1D)           (None, 92, 32)            7200      \n",
            "                                                                 \n",
            " global_max_pooling1d (Globa  (None, 32)               0         \n",
            " lMaxPooling1D)                                                  \n",
            "                                                                 \n",
            " dense_7 (Dense)             (None, 1)                 33        \n",
            "                                                                 \n",
            "=================================================================\n",
            "Total params: 1,315,937\n",
            "Trainable params: 1,315,937\n",
            "Non-trainable params: 0\n",
            "_________________________________________________________________\n",
            "Epoch 1/10\n"
          ]
        },
        {
          "output_type": "stream",
          "name": "stderr",
          "text": [
            "/usr/local/lib/python3.7/dist-packages/keras/optimizers/optimizer_v2/rmsprop.py:135: UserWarning: The `lr` argument is deprecated, use `learning_rate` instead.\n",
            "  super(RMSprop, self).__init__(name, **kwargs)\n"
          ]
        },
        {
          "output_type": "stream",
          "name": "stdout",
          "text": [
            "157/157 [==============================] - 9s 18ms/step - loss: 0.7168 - acc: 0.5354 - val_loss: 0.6829 - val_acc: 0.5744\n",
            "Epoch 2/10\n",
            "157/157 [==============================] - 6s 41ms/step - loss: 0.6633 - acc: 0.6704 - val_loss: 0.6625 - val_acc: 0.6318\n",
            "Epoch 3/10\n",
            "157/157 [==============================] - 5s 30ms/step - loss: 0.6225 - acc: 0.7485 - val_loss: 0.6096 - val_acc: 0.7454\n",
            "Epoch 4/10\n",
            "157/157 [==============================] - 6s 38ms/step - loss: 0.5352 - acc: 0.8006 - val_loss: 0.5028 - val_acc: 0.7962\n",
            "Epoch 5/10\n",
            "157/157 [==============================] - 4s 23ms/step - loss: 0.4296 - acc: 0.8371 - val_loss: 0.4401 - val_acc: 0.8296\n",
            "Epoch 6/10\n",
            "157/157 [==============================] - 5s 30ms/step - loss: 0.3565 - acc: 0.8665 - val_loss: 0.4172 - val_acc: 0.8462\n",
            "Epoch 7/10\n",
            "157/157 [==============================] - 3s 19ms/step - loss: 0.3139 - acc: 0.8879 - val_loss: 0.4208 - val_acc: 0.8568\n",
            "Epoch 8/10\n",
            "157/157 [==============================] - 8s 50ms/step - loss: 0.2828 - acc: 0.8995 - val_loss: 0.4285 - val_acc: 0.8628\n",
            "Epoch 9/10\n",
            "157/157 [==============================] - 7s 44ms/step - loss: 0.2554 - acc: 0.9111 - val_loss: 0.4434 - val_acc: 0.8648\n",
            "Epoch 10/10\n",
            "157/157 [==============================] - 5s 33ms/step - loss: 0.2309 - acc: 0.9205 - val_loss: 0.4702 - val_acc: 0.8694\n"
          ]
        }
      ]
    },
    {
      "cell_type": "code",
      "source": [
        "# plotting the results\n",
        "import matplotlib.pyplot as plt\n",
        "\n",
        "acc = history.history['acc']\n",
        "val_acc = history.history['val_acc']\n",
        "loss = history.history['loss']\n",
        "val_loss = history.history['val_loss']\n",
        "\n",
        "epochs = range(1, len(acc)+1)\n",
        "\n",
        "plt.plot(epochs, acc, 'bo', label='Training acc')\n",
        "plt.plot(epochs, val_acc, 'b', label='Validation acc')\n",
        "plt.title('Training and validation accuracy')\n",
        "plt.legend()\n",
        "\n",
        "plt.figure()\n",
        "\n",
        "plt.plot(epochs, loss, 'bo', label='Training loss')\n",
        "plt.plot(epochs, val_loss, 'b', label='Validation loss')\n",
        "plt.title('Training and validation loss')\n",
        "plt.legend()\n",
        "\n",
        "plt.show()"
      ],
      "metadata": {
        "colab": {
          "base_uri": "https://localhost:8080/",
          "height": 545
        },
        "id": "HzC_d9xm-PcY",
        "outputId": "e497c211-e6f3-4528-e2c0-fe5f5b5a8edc"
      },
      "execution_count": null,
      "outputs": [
        {
          "output_type": "display_data",
          "data": {
            "text/plain": [
              "<Figure size 432x288 with 1 Axes>"
            ],
            "image/png": "[encoded data removed]"
          },
          "metadata": {
            "needs_background": "light"
          }
        },
        {
          "output_type": "display_data",
          "data": {
            "text/plain": [
              "<Figure size 432x288 with 1 Axes>"
            ],
            "image/png": "[encoded data removed]"
          },
          "metadata": {
            "needs_background": "light"
          }
        }
      ]
    },
    {
      "cell_type": "markdown",
      "source": [
        "This model is much faster, but with slightly less validation accuracy than the one in example 2 with a LSTM layer"
      ],
      "metadata": {
        "id": "U2-5nQcL_4Gn"
      }
    },
    {
      "cell_type": "markdown",
      "source": [
        "Model 2: with a simple 1D convnet for air temperature forecasting on Jena dataset"
      ],
      "metadata": {
        "id": "QxnijhzCAu71"
      }
    },
    {
      "cell_type": "markdown",
      "source": [
        "We will use the same dataset as in example 3"
      ],
      "metadata": {
        "id": "js6kS4QIxY4w"
      }
    },
    {
      "cell_type": "code",
      "source": [
        "# define, compile and train the model\n",
        "inputs = keras.Input(shape=(sequence_length, raw_data.shape[-1]))\n",
        "x = layers.Conv1D(8, 24, activation=\"relu\")(inputs)\n",
        "x = layers.MaxPooling1D(2)(x)\n",
        "x = layers.Conv1D(8, 12, activation=\"relu\")(x)\n",
        "x = layers.MaxPooling1D(2)(x)\n",
        "x = layers.Conv1D(8, 6, activation=\"relu\")(x)\n",
        "x = layers.GlobalAveragePooling1D()(x)\n",
        "outputs = layers.Dense(1)(x)\n",
        "model = keras.Model(inputs, outputs)\n",
        "\n",
        "callbacks = [\n",
        "    keras.callbacks.ModelCheckpoint(\"jena_conv.keras\",\n",
        "                                    save_best_only=True)\n",
        "]\n",
        "model.compile(optimizer=\"rmsprop\", loss=\"mse\", metrics=[\"mae\"])\n",
        "model.summary()\n",
        "history = model.fit(train_dataset,\n",
        "                    epochs=10,\n",
        "                    validation_data=val_dataset,\n",
        "                    callbacks=callbacks)"
      ],
      "metadata": {
        "id": "ohZ1bQ5VBap8",
        "colab": {
          "base_uri": "https://localhost:8080/"
        },
        "outputId": "556bf2f1-4daa-47ac-c5e2-bb14b598c277"
      },
      "execution_count": 17,
      "outputs": [
        {
          "output_type": "stream",
          "name": "stdout",
          "text": [
            "Epoch 1/10\n",
            "819/819 [==============================] - 139s 168ms/step - loss: 26.1915 - mae: 3.9010 - val_loss: 16.4550 - val_mae: 3.2342\n",
            "Epoch 2/10\n",
            "819/819 [==============================] - 148s 180ms/step - loss: 15.6877 - mae: 3.1495 - val_loss: 15.3298 - val_mae: 3.0978\n",
            "Epoch 3/10\n",
            "819/819 [==============================] - 137s 166ms/step - loss: 14.5435 - mae: 3.0295 - val_loss: 15.8391 - val_mae: 3.1292\n",
            "Epoch 4/10\n",
            "819/819 [==============================] - 126s 153ms/step - loss: 13.7867 - mae: 2.9429 - val_loss: 15.5411 - val_mae: 3.0978\n",
            "Epoch 5/10\n",
            "819/819 [==============================] - 135s 165ms/step - loss: 13.2306 - mae: 2.8815 - val_loss: 17.4804 - val_mae: 3.3396\n",
            "Epoch 6/10\n",
            "819/819 [==============================] - 136s 166ms/step - loss: 12.7751 - mae: 2.8296 - val_loss: 14.4297 - val_mae: 2.9957\n",
            "Epoch 7/10\n",
            "819/819 [==============================] - 135s 164ms/step - loss: 12.3512 - mae: 2.7826 - val_loss: 15.0060 - val_mae: 3.0443\n",
            "Epoch 8/10\n",
            "819/819 [==============================] - 128s 156ms/step - loss: 11.9632 - mae: 2.7406 - val_loss: 14.4954 - val_mae: 3.0046\n",
            "Epoch 9/10\n",
            "819/819 [==============================] - 140s 171ms/step - loss: 11.6711 - mae: 2.7055 - val_loss: 14.8214 - val_mae: 3.0329\n",
            "Epoch 10/10\n",
            "819/819 [==============================] - 140s 171ms/step - loss: 11.3687 - mae: 2.6692 - val_loss: 14.4215 - val_mae: 2.9828\n"
          ]
        }
      ]
    },
    {
      "cell_type": "code",
      "source": [
        "# plotting results \n",
        "loss = history.history[\"mae\"]\n",
        "val_loss = history.history[\"val_mae\"]\n",
        "epochs = range(1, len(loss) + 1)\n",
        "plt.figure()\n",
        "plt.plot(epochs, loss, \"bo\", label=\"Training MAE\")\n",
        "plt.plot(epochs, val_loss, \"b\", label=\"Validation MAE\")\n",
        "plt.title(\"Training and validation MAE\")\n",
        "plt.legend()\n",
        "plt.show()"
      ],
      "metadata": {
        "id": "YW75ZTk4C1QG",
        "colab": {
          "base_uri": "https://localhost:8080/",
          "height": 281
        },
        "outputId": "7ffe3e16-03aa-4939-c9ef-6ddcdfb95335"
      },
      "execution_count": 18,
      "outputs": [
        {
          "output_type": "display_data",
          "data": {
            "text/plain": [
              "<Figure size 432x288 with 1 Axes>"
            ],
            "image/png": "[encoded data removed]"
          },
          "metadata": {
            "needs_background": "light"
          }
        }
      ]
    },
    {
      "cell_type": "markdown",
      "source": [
        "Model 3: combining Conv1D and GRU layers for air temperature forecasting on Jena dataset"
      ],
      "metadata": {
        "id": "SRAFbjpTCqWF"
      }
    },
    {
      "cell_type": "code",
      "source": [
        "# define, compile and train the model\n",
        "inputs = keras.Input(shape=(sequence_length, raw_data.shape[-1]))\n",
        "x = layers.Conv1D(8, 24, activation=\"relu\")(inputs)\n",
        "x = layers.MaxPooling1D(2)(x)\n",
        "x = layers.Conv1D(8, 12, activation=\"relu\")(x)\n",
        "x = layers.GRU(32, dropout=0.1, recurrent_dropout=0.5)(x)\n",
        "outputs = layers.Dense(1)(x)\n",
        "model = keras.Model(inputs, outputs)\n",
        "\n",
        "callbacks = [\n",
        "    keras.callbacks.ModelCheckpoint(\"jena_conv_plus_gru.keras\",\n",
        "                                    save_best_only=True)\n",
        "]\n",
        "model.compile(optimizer=\"rmsprop\", loss=\"mse\", metrics=[\"mae\"])\n",
        "model.summary()\n",
        "history = model.fit(train_dataset,\n",
        "                    epochs=10,\n",
        "                    validation_data=val_dataset,\n",
        "                    callbacks=callbacks)"
      ],
      "metadata": {
        "id": "6GiYFf0dziF4",
        "colab": {
          "base_uri": "https://localhost:8080/"
        },
        "outputId": "29bb2890-bc37-413b-ba62-e3af895b93a0"
      },
      "execution_count": 20,
      "outputs": [
        {
          "output_type": "stream",
          "name": "stdout",
          "text": [
            "Model: \"model_3\"\n",
            "_________________________________________________________________\n",
            " Layer (type)                Output Shape              Param #   \n",
            "=================================================================\n",
            " input_4 (InputLayer)        [(None, 120, 14)]         0         \n",
            "                                                                 \n",
            " conv1d_3 (Conv1D)           (None, 97, 8)             2696      \n",
            "                                                                 \n",
            " max_pooling1d_2 (MaxPooling  (None, 48, 8)            0         \n",
            " 1D)                                                             \n",
            "                                                                 \n",
            " conv1d_4 (Conv1D)           (None, 37, 8)             776       \n",
            "                                                                 \n",
            " gru (GRU)                   (None, 32)                4032      \n",
            "                                                                 \n",
            " dense_5 (Dense)             (None, 1)                 33        \n",
            "                                                                 \n",
            "=================================================================\n",
            "Total params: 7,537\n",
            "Trainable params: 7,537\n",
            "Non-trainable params: 0\n",
            "_________________________________________________________________\n",
            "Epoch 1/10\n",
            "819/819 [==============================] - 200s 240ms/step - loss: 24.2822 - mae: 3.5717 - val_loss: 11.7657 - val_mae: 2.6811\n",
            "Epoch 2/10\n",
            "819/819 [==============================] - 213s 259ms/step - loss: 10.7731 - mae: 2.5753 - val_loss: 10.7332 - val_mae: 2.5609\n",
            "Epoch 3/10\n",
            "819/819 [==============================] - 195s 238ms/step - loss: 10.0000 - mae: 2.4799 - val_loss: 10.0695 - val_mae: 2.4640\n",
            "Epoch 4/10\n",
            "819/819 [==============================] - 194s 236ms/step - loss: 9.5020 - mae: 2.4210 - val_loss: 11.6566 - val_mae: 2.6939\n",
            "Epoch 5/10\n",
            "819/819 [==============================] - 183s 223ms/step - loss: 9.1835 - mae: 2.3798 - val_loss: 9.8266 - val_mae: 2.4449\n",
            "Epoch 6/10\n",
            "819/819 [==============================] - 192s 234ms/step - loss: 8.8965 - mae: 2.3440 - val_loss: 10.1986 - val_mae: 2.5047\n",
            "Epoch 7/10\n",
            "819/819 [==============================] - 206s 251ms/step - loss: 8.6149 - mae: 2.3051 - val_loss: 12.9352 - val_mae: 2.8606\n",
            "Epoch 8/10\n",
            "819/819 [==============================] - 198s 241ms/step - loss: 8.3877 - mae: 2.2721 - val_loss: 10.3185 - val_mae: 2.5296\n",
            "Epoch 9/10\n",
            "819/819 [==============================] - 203s 247ms/step - loss: 8.1162 - mae: 2.2360 - val_loss: 10.2899 - val_mae: 2.5292\n",
            "Epoch 10/10\n",
            "819/819 [==============================] - 223s 272ms/step - loss: 7.8971 - mae: 2.2049 - val_loss: 10.2654 - val_mae: 2.5228\n"
          ]
        }
      ]
    },
    {
      "cell_type": "code",
      "source": [
        "# plotting the results\n",
        "loss = history.history[\"mae\"]\n",
        "val_loss = history.history[\"val_mae\"]\n",
        "epochs = range(1, len(loss) + 1)\n",
        "plt.figure()\n",
        "plt.plot(epochs, loss, \"bo\", label=\"Training MAE\")\n",
        "plt.plot(epochs, val_loss, \"b\", label=\"Validation MAE\")\n",
        "plt.title(\"Training and validation MAE\")\n",
        "plt.legend()\n",
        "plt.show()"
      ],
      "metadata": {
        "id": "c4n7cMUuz667",
        "colab": {
          "base_uri": "https://localhost:8080/",
          "height": 281
        },
        "outputId": "7b240cdd-e07c-4fc0-e035-a51bd2d5870c"
      },
      "execution_count": 22,
      "outputs": [
        {
          "output_type": "display_data",
          "data": {
            "text/plain": [
              "<Figure size 432x288 with 1 Axes>"
            ],
            "image/png": "[encoded data removed]"
          },
          "metadata": {
            "needs_background": "light"
          }
        }
      ]
    },
    {
      "cell_type": "markdown",
      "source": [
        "As you see this model achieves a better performance than the previous one by just replacing a set of Conv1D-MaxPooling layers with a GRU layer. And, generally, we can experiment with several compinations in order to find better models "
      ],
      "metadata": {
        "id": "0v-V_mp94X-s"
      }
    },
    {
      "cell_type": "code",
      "source": [
        "# last step is to evaluate the model with the highest valisation accuracy on the test set\n",
        "model = keras.models.load_model(\"jena_conv_plus_gru.keras\")\n",
        "print(f\"Test MAE: {model.evaluate(test_dataset)[1]:.2f}\")"
      ],
      "metadata": {
        "colab": {
          "base_uri": "https://localhost:8080/"
        },
        "id": "8Vos3n4y_NFd",
        "outputId": "f95b2b6a-e7f6-4579-edb1-3e118dc4dcd4"
      },
      "execution_count": 23,
      "outputs": [
        {
          "output_type": "stream",
          "name": "stdout",
          "text": [
            "405/405 [==============================] - 38s 91ms/step - loss: 11.1712 - mae: 2.6292\n",
            "Test MAE: 2.63\n"
          ]
        }
      ]
    },
    {
      "cell_type": "markdown",
      "source": [
        "1D convnets are cheap and perform well for processing temporal patterns and they offer a faster alternative to RNNs on some problems. It is a good idea to use a 1D convnet as a preprocessing step before the RNN, because RNNs are extremely expensive for processing very long sequences"
      ],
      "metadata": {
        "id": "pkn4qwzZ0Dg6"
      }
    },
    {
      "cell_type": "code",
      "source": [],
      "metadata": {
        "id": "DNvWPdQ7C1k0"
      },
      "execution_count": null,
      "outputs": []
    }
  ]
}